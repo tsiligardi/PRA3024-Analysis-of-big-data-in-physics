{
  "nbformat": 4,
  "nbformat_minor": 0,
  "metadata": {
    "colab": {
      "provenance": [],
      "authorship_tag": "ABX9TyNk5JTMxxAwTVZrO5SdY/Fh",
      "include_colab_link": true
    },
    "kernelspec": {
      "name": "python3",
      "display_name": "Python 3"
    },
    "language_info": {
      "name": "python"
    }
  },
  "cells": [
    {
      "cell_type": "markdown",
      "metadata": {
        "id": "view-in-github",
        "colab_type": "text"
      },
      "source": [
        "<a href=\"https://colab.research.google.com/github/tsiligardi/PRA3024-Analysis-of-big-data-in-physics/blob/main/GWDA_Ex_3.ipynb\" target=\"_parent\"><img src=\"https://colab.research.google.com/assets/colab-badge.svg\" alt=\"Open In Colab\"/></a>"
      ]
    },
    {
      "cell_type": "markdown",
      "source": [
        "**Problem 3**"
      ],
      "metadata": {
        "id": "0tDGbycL5LlS"
      }
    },
    {
      "cell_type": "code",
      "source": [
        "import sys\n",
        "!{sys.executable} -m pip install lalsuite pycbc"
      ],
      "metadata": {
        "colab": {
          "base_uri": "https://localhost:8080/"
        },
        "id": "drHYRWaA61Sx",
        "outputId": "01761caa-b6d0-44b2-e1b9-56d207367524"
      },
      "execution_count": 3,
      "outputs": [
        {
          "output_type": "stream",
          "name": "stdout",
          "text": [
            "Looking in indexes: https://pypi.org/simple, https://us-python.pkg.dev/colab-wheels/public/simple/\n",
            "Collecting lalsuite\n",
            "  Downloading lalsuite-7.13-cp38-cp38-manylinux_2_28_x86_64.whl (47.1 MB)\n",
            "\u001b[2K     \u001b[90m━━━━━━━━━━━━━━━━━━━━━━━━━━━━━━━━━━━━━━━━\u001b[0m \u001b[32m47.1/47.1 MB\u001b[0m \u001b[31m16.7 MB/s\u001b[0m eta \u001b[36m0:00:00\u001b[0m\n",
            "\u001b[?25hCollecting pycbc\n",
            "  Downloading PyCBC-2.1.0-cp38-cp38-manylinux_2_17_x86_64.manylinux2014_x86_64.whl (7.5 MB)\n",
            "\u001b[2K     \u001b[90m━━━━━━━━━━━━━━━━━━━━━━━━━━━━━━━━━━━━━━━━\u001b[0m \u001b[32m7.5/7.5 MB\u001b[0m \u001b[31m78.3 MB/s\u001b[0m eta \u001b[36m0:00:00\u001b[0m\n",
            "\u001b[?25hCollecting lscsoft-glue\n",
            "  Downloading lscsoft-glue-3.0.1.tar.gz (1.4 MB)\n",
            "\u001b[2K     \u001b[90m━━━━━━━━━━━━━━━━━━━━━━━━━━━━━━━━━━━━━━━━\u001b[0m \u001b[32m1.4/1.4 MB\u001b[0m \u001b[31m60.8 MB/s\u001b[0m eta \u001b[36m0:00:00\u001b[0m\n",
            "\u001b[?25h  Installing build dependencies ... \u001b[?25l\u001b[?25hdone\n",
            "  Getting requirements to build wheel ... \u001b[?25l\u001b[?25hdone\n",
            "  Preparing metadata (pyproject.toml) ... \u001b[?25l\u001b[?25hdone\n",
            "Collecting ligo-segments\n",
            "  Downloading ligo-segments-1.4.0.tar.gz (51 kB)\n",
            "\u001b[2K     \u001b[90m━━━━━━━━━━━━━━━━━━━━━━━━━━━━━━━━━━━━━━━━\u001b[0m \u001b[32m51.0/51.0 KB\u001b[0m \u001b[31m4.7 MB/s\u001b[0m eta \u001b[36m0:00:00\u001b[0m\n",
            "\u001b[?25h  Preparing metadata (setup.py) ... \u001b[?25l\u001b[?25hdone\n",
            "Requirement already satisfied: importlib-resources>=1.3.0 in /usr/local/lib/python3.8/dist-packages (from lalsuite) (5.12.0)\n",
            "Requirement already satisfied: scipy in /usr/local/lib/python3.8/dist-packages (from lalsuite) (1.10.1)\n",
            "Requirement already satisfied: python-dateutil in /usr/local/lib/python3.8/dist-packages (from lalsuite) (2.8.2)\n",
            "Requirement already satisfied: matplotlib in /usr/local/lib/python3.8/dist-packages (from lalsuite) (3.5.3)\n",
            "Requirement already satisfied: astropy in /usr/local/lib/python3.8/dist-packages (from lalsuite) (4.3.1)\n",
            "Requirement already satisfied: numpy>=1.7 in /usr/local/lib/python3.8/dist-packages (from lalsuite) (1.22.4)\n",
            "Requirement already satisfied: jinja2 in /usr/local/lib/python3.8/dist-packages (from pycbc) (3.1.2)\n",
            "Collecting gwdatafind\n",
            "  Downloading gwdatafind-1.1.3-py3-none-any.whl (45 kB)\n",
            "\u001b[2K     \u001b[90m━━━━━━━━━━━━━━━━━━━━━━━━━━━━━━━━━━━━━━━━\u001b[0m \u001b[32m45.4/45.4 KB\u001b[0m \u001b[31m4.9 MB/s\u001b[0m eta \u001b[36m0:00:00\u001b[0m\n",
            "\u001b[?25hRequirement already satisfied: h5py!=3.7.0,>=3.0.0 in /usr/local/lib/python3.8/dist-packages (from pycbc) (3.1.0)\n",
            "Requirement already satisfied: beautifulsoup4>=4.6.0 in /usr/local/lib/python3.8/dist-packages (from pycbc) (4.6.3)\n",
            "Collecting python-ligo-lw>=1.7.0\n",
            "  Downloading python-ligo-lw-1.8.3.tar.gz (2.3 MB)\n",
            "\u001b[2K     \u001b[90m━━━━━━━━━━━━━━━━━━━━━━━━━━━━━━━━━━━━━━━━\u001b[0m \u001b[32m2.3/2.3 MB\u001b[0m \u001b[31m72.7 MB/s\u001b[0m eta \u001b[36m0:00:00\u001b[0m\n",
            "\u001b[?25h  Preparing metadata (setup.py) ... \u001b[?25l\u001b[?25hdone\n",
            "Collecting Mako>=1.0.1\n",
            "  Downloading Mako-1.2.4-py3-none-any.whl (78 kB)\n",
            "\u001b[2K     \u001b[90m━━━━━━━━━━━━━━━━━━━━━━━━━━━━━━━━━━━━━━━━\u001b[0m \u001b[32m78.7/78.7 KB\u001b[0m \u001b[31m8.3 MB/s\u001b[0m eta \u001b[36m0:00:00\u001b[0m\n",
            "\u001b[?25hRequirement already satisfied: pillow in /usr/local/lib/python3.8/dist-packages (from pycbc) (8.4.0)\n",
            "Requirement already satisfied: tqdm in /usr/local/lib/python3.8/dist-packages (from pycbc) (4.64.1)\n",
            "Collecting pegasus-wms.api>=5.0.3\n",
            "  Downloading pegasus-wms.api-5.0.5.tar.gz (44 kB)\n",
            "\u001b[2K     \u001b[90m━━━━━━━━━━━━━━━━━━━━━━━━━━━━━━━━━━━━━━━━\u001b[0m \u001b[32m44.4/44.4 KB\u001b[0m \u001b[31m4.9 MB/s\u001b[0m eta \u001b[36m0:00:00\u001b[0m\n",
            "\u001b[?25h  Preparing metadata (setup.py) ... \u001b[?25l\u001b[?25hdone\n",
            "Requirement already satisfied: setuptools in /usr/local/lib/python3.8/dist-packages (from pycbc) (57.4.0)\n",
            "Collecting mpld3>=0.3\n",
            "  Downloading mpld3-0.5.9-py3-none-any.whl (201 kB)\n",
            "\u001b[2K     \u001b[90m━━━━━━━━━━━━━━━━━━━━━━━━━━━━━━━━━━━━━━\u001b[0m \u001b[32m201.2/201.2 KB\u001b[0m \u001b[31m20.5 MB/s\u001b[0m eta \u001b[36m0:00:00\u001b[0m\n",
            "\u001b[?25hRequirement already satisfied: cython>=0.29 in /usr/local/lib/python3.8/dist-packages (from pycbc) (0.29.33)\n",
            "Requirement already satisfied: pyerfa>=1.7.3 in /usr/local/lib/python3.8/dist-packages (from astropy->lalsuite) (2.0.0.1)\n",
            "Requirement already satisfied: zipp>=3.1.0 in /usr/local/lib/python3.8/dist-packages (from importlib-resources>=1.3.0->lalsuite) (3.15.0)\n",
            "Collecting pyRXP\n",
            "  Downloading pyRXP-3.0.1-cp38-cp38-manylinux_2_12_x86_64.manylinux2010_x86_64.whl (299 kB)\n",
            "\u001b[2K     \u001b[90m━━━━━━━━━━━━━━━━━━━━━━━━━━━━━━━━━━━━━━\u001b[0m \u001b[32m299.7/299.7 KB\u001b[0m \u001b[31m27.0 MB/s\u001b[0m eta \u001b[36m0:00:00\u001b[0m\n",
            "\u001b[?25hRequirement already satisfied: six in /usr/local/lib/python3.8/dist-packages (from lscsoft-glue->lalsuite) (1.15.0)\n",
            "Collecting pyOpenSSL\n",
            "  Downloading pyOpenSSL-23.0.0-py3-none-any.whl (57 kB)\n",
            "\u001b[2K     \u001b[90m━━━━━━━━━━━━━━━━━━━━━━━━━━━━━━━━━━━━━━━━\u001b[0m \u001b[32m57.3/57.3 KB\u001b[0m \u001b[31m5.4 MB/s\u001b[0m eta \u001b[36m0:00:00\u001b[0m\n",
            "\u001b[?25hRequirement already satisfied: MarkupSafe>=0.9.2 in /usr/local/lib/python3.8/dist-packages (from Mako>=1.0.1->pycbc) (2.1.2)\n",
            "Requirement already satisfied: packaging>=20.0 in /usr/local/lib/python3.8/dist-packages (from matplotlib->lalsuite) (23.0)\n",
            "Requirement already satisfied: fonttools>=4.22.0 in /usr/local/lib/python3.8/dist-packages (from matplotlib->lalsuite) (4.38.0)\n",
            "Requirement already satisfied: kiwisolver>=1.0.1 in /usr/local/lib/python3.8/dist-packages (from matplotlib->lalsuite) (1.4.4)\n",
            "Requirement already satisfied: pyparsing>=2.2.1 in /usr/local/lib/python3.8/dist-packages (from matplotlib->lalsuite) (3.0.9)\n",
            "Requirement already satisfied: cycler>=0.10 in /usr/local/lib/python3.8/dist-packages (from matplotlib->lalsuite) (0.11.0)\n",
            "Collecting pegasus-wms.common\n",
            "  Downloading pegasus-wms.common-5.0.5.tar.gz (41 kB)\n",
            "\u001b[2K     \u001b[90m━━━━━━━━━━━━━━━━━━━━━━━━━━━━━━━━━━━━━━━━\u001b[0m \u001b[32m41.2/41.2 KB\u001b[0m \u001b[31m2.2 MB/s\u001b[0m eta \u001b[36m0:00:00\u001b[0m\n",
            "\u001b[?25h  Preparing metadata (setup.py) ... \u001b[?25l\u001b[?25hdone\n",
            "Requirement already satisfied: pyyaml in /usr/local/lib/python3.8/dist-packages (from python-ligo-lw>=1.7.0->pycbc) (6.0)\n",
            "Collecting igwn-auth-utils>=0.3.1\n",
            "  Downloading igwn_auth_utils-0.4.0-py3-none-any.whl (22 kB)\n",
            "Collecting scitokens>=1.7.0\n",
            "  Downloading scitokens-1.7.4-py3-none-any.whl (27 kB)\n",
            "Collecting safe-netrc>=1.0.0\n",
            "  Downloading safe_netrc-1.0.1-py3-none-any.whl (10 kB)\n",
            "Requirement already satisfied: requests>=2.14 in /usr/local/lib/python3.8/dist-packages (from igwn-auth-utils>=0.3.1->gwdatafind->pycbc) (2.25.1)\n",
            "Collecting cryptography>=2.3\n",
            "  Downloading cryptography-39.0.2-cp36-abi3-manylinux_2_28_x86_64.whl (4.2 MB)\n",
            "\u001b[2K     \u001b[90m━━━━━━━━━━━━━━━━━━━━━━━━━━━━━━━━━━━━━━━━\u001b[0m \u001b[32m4.2/4.2 MB\u001b[0m \u001b[31m59.6 MB/s\u001b[0m eta \u001b[36m0:00:00\u001b[0m\n",
            "\u001b[?25hRequirement already satisfied: cffi>=1.12 in /usr/local/lib/python3.8/dist-packages (from cryptography>=2.3->igwn-auth-utils>=0.3.1->gwdatafind->pycbc) (1.15.1)\n",
            "Requirement already satisfied: urllib3<1.27,>=1.21.1 in /usr/local/lib/python3.8/dist-packages (from requests>=2.14->igwn-auth-utils>=0.3.1->gwdatafind->pycbc) (1.26.14)\n",
            "Requirement already satisfied: idna<3,>=2.5 in /usr/local/lib/python3.8/dist-packages (from requests>=2.14->igwn-auth-utils>=0.3.1->gwdatafind->pycbc) (2.10)\n",
            "Requirement already satisfied: certifi>=2017.4.17 in /usr/local/lib/python3.8/dist-packages (from requests>=2.14->igwn-auth-utils>=0.3.1->gwdatafind->pycbc) (2022.12.7)\n",
            "Requirement already satisfied: chardet<5,>=3.0.2 in /usr/local/lib/python3.8/dist-packages (from requests>=2.14->igwn-auth-utils>=0.3.1->gwdatafind->pycbc) (4.0.0)\n",
            "Collecting PyJWT>=1.6.1\n",
            "  Downloading PyJWT-2.6.0-py3-none-any.whl (20 kB)\n",
            "Requirement already satisfied: pycparser in /usr/local/lib/python3.8/dist-packages (from cffi>=1.12->cryptography>=2.3->igwn-auth-utils>=0.3.1->gwdatafind->pycbc) (2.21)\n",
            "Building wheels for collected packages: lscsoft-glue, pegasus-wms.api, python-ligo-lw, ligo-segments, pegasus-wms.common\n",
            "  Building wheel for lscsoft-glue (pyproject.toml) ... \u001b[?25l\u001b[?25hdone\n",
            "  Created wheel for lscsoft-glue: filename=lscsoft_glue-3.0.1-cp38-cp38-linux_x86_64.whl size=264730 sha256=15d92f410bb5cf3f21852ef313ac0e12770ae1e3619bf5a5cdb1af4d9ad918d7\n",
            "  Stored in directory: /root/.cache/pip/wheels/00/2d/8b/4dd8e65ff4068d810b396812db2d9f1500cb6fc42339b7c363\n",
            "  Building wheel for pegasus-wms.api (setup.py) ... \u001b[?25l\u001b[?25hdone\n",
            "  Created wheel for pegasus-wms.api: filename=pegasus_wms.api-5.0.5-py3-none-any.whl size=50029 sha256=07d747e9d131fbb86449c17b13bce490d95d1e949c3f900119bd3af9363e1633\n",
            "  Stored in directory: /root/.cache/pip/wheels/7c/51/ce/5ea958d80b2935c10604c2f8621349bfae660ec6b3e122e345\n",
            "  Building wheel for python-ligo-lw (setup.py) ... \u001b[?25l\u001b[?25hdone\n",
            "  Created wheel for python-ligo-lw: filename=python_ligo_lw-1.8.3-cp38-cp38-linux_x86_64.whl size=166534 sha256=c0d8429e449816f803d39d49d9023cf6baa9039767de428cc0cc29f39246385d\n",
            "  Stored in directory: /root/.cache/pip/wheels/99/69/ff/b4d6adf93b79197925a262b53b800f61a99b9a8fab4b78b43c\n",
            "  Building wheel for ligo-segments (setup.py) ... \u001b[?25l\u001b[?25hdone\n",
            "  Created wheel for ligo-segments: filename=ligo_segments-1.4.0-cp38-cp38-linux_x86_64.whl size=106052 sha256=4c66f337f42f426a640c40c0bfbd4a79566ca419e9adc4eab408979cf1f374ab\n",
            "  Stored in directory: /root/.cache/pip/wheels/3c/22/bd/6e3de97386f4d20261f7f76a6bd322e685999ef720f8054e31\n",
            "  Building wheel for pegasus-wms.common (setup.py) ... \u001b[?25l\u001b[?25hdone\n",
            "  Created wheel for pegasus-wms.common: filename=pegasus_wms.common-5.0.5-py3-none-any.whl size=46251 sha256=a7d7c9f862457328d7e7aefe20445945c09b08756a1d831a96f7c3d6e78c571a\n",
            "  Stored in directory: /root/.cache/pip/wheels/b7/90/15/a42dd880a02eccc663672eff9a58ca203022e1ea997f559d76\n",
            "Successfully built lscsoft-glue pegasus-wms.api python-ligo-lw ligo-segments pegasus-wms.common\n",
            "Installing collected packages: safe-netrc, pyRXP, PyJWT, pegasus-wms.common, Mako, ligo-segments, pegasus-wms.api, cryptography, scitokens, pyOpenSSL, mpld3, lscsoft-glue, igwn-auth-utils, python-ligo-lw, lalsuite, gwdatafind, pycbc\n",
            "Successfully installed Mako-1.2.4 PyJWT-2.6.0 cryptography-39.0.2 gwdatafind-1.1.3 igwn-auth-utils-0.4.0 lalsuite-7.13 ligo-segments-1.4.0 lscsoft-glue-3.0.1 mpld3-0.5.9 pegasus-wms.api-5.0.5 pegasus-wms.common-5.0.5 pyOpenSSL-23.0.0 pyRXP-3.0.1 pycbc-2.1.0 python-ligo-lw-1.8.3 safe-netrc-1.0.1 scitokens-1.7.4\n"
          ]
        }
      ]
    },
    {
      "cell_type": "code",
      "execution_count": 4,
      "metadata": {
        "id": "QIZPFQ105HV6"
      },
      "outputs": [],
      "source": [
        "#Import the usefull libraries\n",
        "%matplotlib inline\n",
        "import pylab\n",
        "import lal\n",
        "from pycbc.filter import highpass,matched_filter,sigmasq\n",
        "from pycbc.conversions import mass1_from_mchirp_q\n",
        "from pycbc.catalog import Merger\n",
        "from pycbc.frame import read_frame\n",
        "from pycbc.filter import resample_to_delta_t, highpass\n",
        "import numpy as np\n",
        "from pycbc import types\n",
        "from pycbc.waveform import get_td_waveform,get_fd_waveform\n",
        "from pycbc.waveform import td_approximants, fd_approximants\n",
        "import pycbc.psd\n",
        "from pycbc.psd import interpolate\n"
      ]
    },
    {
      "cell_type": "markdown",
      "source": [
        "**Part 1**\n",
        "<br>The horizon distance of a GW detector is defined as a distance to the source for which\n",
        "the accumulated signal power (optimal SNR) is equal to a detection threshold of SNR\n",
        "(ρmin = 8) when the source is located overhead (θ = 0,π). Plot the horizon distance\n",
        "for Advanced LIGO detector (assuming ’H1’ noise PSD) assuming a set of equal mass\n",
        "binary with a range of component masses between 5 to 500. In this plot, you can\n",
        "assume that X-axis and Y-axis represent the total mass of the binary and horizon\n",
        "distance, respectively"
      ],
      "metadata": {
        "id": "1Whh_7X45Tty"
      }
    },
    {
      "cell_type": "code",
      "source": [
        "flow = 20  # set up the lower cut off frequency \n",
        "delta_f = 1.0 / 16 \n",
        "flen = int(2048.0/ (delta_f)) + 1 \n",
        "psd = pycbc.psd.aLIGOZeroDetHighPower(flen, delta_f, flow) \n",
        "psd.data[:int(flow/delta_f)] = np.inf  #set the value outside the frequency range to infinity \n",
        "psd.data[-1] = np.inf "
      ],
      "metadata": {
        "id": "f5P4slXh65N2"
      },
      "execution_count": 60,
      "outputs": []
    },
    {
      "cell_type": "code",
      "source": [
        "help(pycbc.psd.aLIGOZeroDetHighPower)"
      ],
      "metadata": {
        "colab": {
          "base_uri": "https://localhost:8080/"
        },
        "id": "2SLgR7j6MmrX",
        "outputId": "1ff44f05-ebef-4bd9-8ba0-3493d8ff8444"
      },
      "execution_count": 62,
      "outputs": [
        {
          "output_type": "stream",
          "name": "stdout",
          "text": [
            "Help on function aLIGOZeroDetHighPower in module pycbc.psd.analytical:\n",
            "\n",
            "aLIGOZeroDetHighPower(length, delta_f, low_freq_cutoff)\n",
            "    Return a FrequencySeries containing the aLIGOZeroDetHighPower PSD from LALSimulation.\n",
            "\n"
          ]
        }
      ]
    },
    {
      "cell_type": "code",
      "source": [
        "x=np.linspace(0,60000,flen)\n",
        "pylab.loglog(x,psd); #not sure if the graph is correct"
      ],
      "metadata": {
        "colab": {
          "base_uri": "https://localhost:8080/",
          "height": 272
        },
        "id": "aERfi_Sy7J-8",
        "outputId": "51c9b58b-7611-47e4-dd56-95c53ee9daaa"
      },
      "execution_count": 57,
      "outputs": [
        {
          "output_type": "display_data",
          "data": {
            "text/plain": [
              "<Figure size 432x288 with 1 Axes>"
            ],
            "image/png": "[encoded data removed]"
          },
          "metadata": {
            "needs_background": "light"
          }
        }
      ]
    },
    {
      "cell_type": "code",
      "source": [
        "#Calculating the SNR at 1000MPc\n",
        "mass1 = np.arange(5, 500,1 ) #For testing just one, to speed up the code\n",
        "mass2=mass1\n",
        "SNRs=[]\n",
        "for m in mass1:\n",
        "  #generating the waveform\n",
        "  hp, hc = get_fd_waveform(approximant=\"TaylorF2\", \n",
        "                         mass1=m, \n",
        "                         mass2=m, \n",
        "                         delta_f=delta_f , \n",
        "                         distance = 1000,  \n",
        "                         f_lower=20.0, f_final = 2048.0)\n",
        "  \n",
        "  \n",
        "  #calculating the SNR\n",
        "  SNR=(sigmasq(hp,psd))**0.5\n",
        "  SNRs.append(SNR)\n"
      ],
      "metadata": {
        "id": "AK2kgRTH9nBI"
      },
      "execution_count": null,
      "outputs": []
    },
    {
      "cell_type": "markdown",
      "source": [
        "Since $D∝\\frac{1}{\\rho}$, I can calculate the horizon distance $H$ as follow:\n",
        "<br>$H⋅8=1000Mp \\cdot \\rho \\therefore H=(\\frac{1000Mp \\cdot \\rho}{8})$"
      ],
      "metadata": {
        "id": "gxQ1lse9A_Af"
      }
    },
    {
      "cell_type": "code",
      "source": [
        "#calculating the horizon distances\n",
        "H=[(1000*SNR)/8 for SNR in SNRs]\n",
        "#calculating the total masses\n",
        "m_tot=2*mass1\n",
        "\n",
        "#plot\n",
        "pylab.plot(m_tot,H);"
      ],
      "metadata": {
        "colab": {
          "base_uri": "https://localhost:8080/",
          "height": 265
        },
        "id": "DO9Gzp_5B0tC",
        "outputId": "9c227f1d-a356-4ca4-e85a-a36bfb89f239"
      },
      "execution_count": 65,
      "outputs": [
        {
          "output_type": "display_data",
          "data": {
            "text/plain": [
              "<Figure size 432x288 with 1 Axes>"
            ],
            "image/png": "[encoded data removed]"
          },
          "metadata": {
            "needs_background": "light"
          }
        }
      ]
    },
    {
      "cell_type": "code",
      "source": [
        "max(H)"
      ],
      "metadata": {
        "colab": {
          "base_uri": "https://localhost:8080/"
        },
        "id": "_KhrX2haM33X",
        "outputId": "db0b4957-d0bf-43d3-bf4b-82103e72fd8d"
      },
      "execution_count": 64,
      "outputs": [
        {
          "output_type": "execute_result",
          "data": {
            "text/plain": [
              "58956.05699456458"
            ]
          },
          "metadata": {},
          "execution_count": 64
        }
      ]
    }
  ]
}