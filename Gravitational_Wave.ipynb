{
  "nbformat": 4,
  "nbformat_minor": 0,
  "metadata": {
    "colab": {
      "provenance": [],
      "include_colab_link": true
    },
    "kernelspec": {
      "name": "python3",
      "display_name": "Python 3"
    },
    "language_info": {
      "name": "python"
    }
  },
  "cells": [
    {
      "cell_type": "markdown",
      "metadata": {
        "id": "view-in-github",
        "colab_type": "text"
      },
      "source": [
        "<a href=\"https://colab.research.google.com/github/tsiligardi/PRA3024-Analysis-of-big-data-in-physics/blob/main/Gravitational_Wave.ipynb\" target=\"_parent\"><img src=\"https://colab.research.google.com/assets/colab-badge.svg\" alt=\"Open In Colab\"/></a>"
      ]
    },
    {
      "cell_type": "code",
      "source": [
        "import sys\n",
        "!{sys.executable} -m pip install lalsuite pycbc\n"
      ],
      "metadata": {
        "colab": {
          "base_uri": "https://localhost:8080/"
        },
        "id": "DrKxrf-igG3i",
        "outputId": "d398a502-c461-4343-d798-dec8e55f9c8a"
      },
      "execution_count": 1,
      "outputs": [
        {
          "output_type": "stream",
          "name": "stdout",
          "text": [
            "Looking in indexes: https://pypi.org/simple, https://us-python.pkg.dev/colab-wheels/public/simple/\n",
            "Collecting lalsuite\n",
            "  Downloading lalsuite-7.11-cp38-cp38-manylinux_2_17_x86_64.manylinux2014_x86_64.whl (48.4 MB)\n",
            "\u001b[2K     \u001b[90m━━━━━━━━━━━━━━━━━━━━━━━━━━━━━━━━━━━━━━━━\u001b[0m \u001b[32m48.4/48.4 MB\u001b[0m \u001b[31m12.7 MB/s\u001b[0m eta \u001b[36m0:00:00\u001b[0m\n",
            "\u001b[?25hCollecting pycbc\n",
            "  Downloading PyCBC-2.1.0-cp38-cp38-manylinux_2_17_x86_64.manylinux2014_x86_64.whl (7.5 MB)\n",
            "\u001b[2K     \u001b[90m━━━━━━━━━━━━━━━━━━━━━━━━━━━━━━━━━━━━━━━━\u001b[0m \u001b[32m7.5/7.5 MB\u001b[0m \u001b[31m38.5 MB/s\u001b[0m eta \u001b[36m0:00:00\u001b[0m\n",
            "\u001b[?25hRequirement already satisfied: astropy in /usr/local/lib/python3.8/dist-packages (from lalsuite) (4.3.1)\n",
            "Requirement already satisfied: numpy>=1.7 in /usr/local/lib/python3.8/dist-packages (from lalsuite) (1.22.4)\n",
            "Requirement already satisfied: python-dateutil in /usr/local/lib/python3.8/dist-packages (from lalsuite) (2.8.2)\n",
            "Collecting ligo-segments\n",
            "  Downloading ligo-segments-1.4.0.tar.gz (51 kB)\n",
            "\u001b[2K     \u001b[90m━━━━━━━━━━━━━━━━━━━━━━━━━━━━━━━━━━━━━━━━\u001b[0m \u001b[32m51.0/51.0 KB\u001b[0m \u001b[31m2.7 MB/s\u001b[0m eta \u001b[36m0:00:00\u001b[0m\n",
            "\u001b[?25h  Preparing metadata (setup.py) ... \u001b[?25l\u001b[?25hdone\n",
            "Requirement already satisfied: matplotlib in /usr/local/lib/python3.8/dist-packages (from lalsuite) (3.5.3)\n",
            "Requirement already satisfied: scipy in /usr/local/lib/python3.8/dist-packages (from lalsuite) (1.10.1)\n",
            "Collecting lscsoft-glue\n",
            "  Downloading lscsoft-glue-3.0.1.tar.gz (1.4 MB)\n",
            "\u001b[2K     \u001b[90m━━━━━━━━━━━━━━━━━━━━━━━━━━━━━━━━━━━━━━━━\u001b[0m \u001b[32m1.4/1.4 MB\u001b[0m \u001b[31m24.5 MB/s\u001b[0m eta \u001b[36m0:00:00\u001b[0m\n",
            "\u001b[?25h  Installing build dependencies ... \u001b[?25l\u001b[?25hdone\n",
            "  Getting requirements to build wheel ... \u001b[?25l\u001b[?25hdone\n",
            "  Preparing metadata (pyproject.toml) ... \u001b[?25l\u001b[?25hdone\n",
            "Collecting mpld3>=0.3\n",
            "  Downloading mpld3-0.5.9-py3-none-any.whl (201 kB)\n",
            "\u001b[2K     \u001b[90m━━━━━━━━━━━━━━━━━━━━━━━━━━━━━━━━━━━━━━\u001b[0m \u001b[32m201.2/201.2 KB\u001b[0m \u001b[31m23.8 MB/s\u001b[0m eta \u001b[36m0:00:00\u001b[0m\n",
            "\u001b[?25hRequirement already satisfied: setuptools in /usr/local/lib/python3.8/dist-packages (from pycbc) (57.4.0)\n",
            "Collecting python-ligo-lw>=1.7.0\n",
            "  Downloading python-ligo-lw-1.8.3.tar.gz (2.3 MB)\n",
            "\u001b[2K     \u001b[90m━━━━━━━━━━━━━━━━━━━━━━━━━━━━━━━━━━━━━━━━\u001b[0m \u001b[32m2.3/2.3 MB\u001b[0m \u001b[31m36.2 MB/s\u001b[0m eta \u001b[36m0:00:00\u001b[0m\n",
            "\u001b[?25h  Preparing metadata (setup.py) ... \u001b[?25l\u001b[?25hdone\n",
            "Requirement already satisfied: beautifulsoup4>=4.6.0 in /usr/local/lib/python3.8/dist-packages (from pycbc) (4.6.3)\n",
            "Requirement already satisfied: jinja2 in /usr/local/lib/python3.8/dist-packages (from pycbc) (3.1.2)\n",
            "Requirement already satisfied: h5py!=3.7.0,>=3.0.0 in /usr/local/lib/python3.8/dist-packages (from pycbc) (3.1.0)\n",
            "Requirement already satisfied: cython>=0.29 in /usr/local/lib/python3.8/dist-packages (from pycbc) (0.29.33)\n",
            "Collecting pegasus-wms.api>=5.0.3\n",
            "  Downloading pegasus-wms.api-5.0.5.tar.gz (44 kB)\n",
            "\u001b[2K     \u001b[90m━━━━━━━━━━━━━━━━━━━━━━━━━━━━━━━━━━━━━━━━\u001b[0m \u001b[32m44.4/44.4 KB\u001b[0m \u001b[31m1.6 MB/s\u001b[0m eta \u001b[36m0:00:00\u001b[0m\n",
            "\u001b[?25h  Preparing metadata (setup.py) ... \u001b[?25l\u001b[?25hdone\n",
            "Collecting Mako>=1.0.1\n",
            "  Downloading Mako-1.2.4-py3-none-any.whl (78 kB)\n",
            "\u001b[2K     \u001b[90m━━━━━━━━━━━━━━━━━━━━━━━━━━━━━━━━━━━━━━━━\u001b[0m \u001b[32m78.7/78.7 KB\u001b[0m \u001b[31m9.6 MB/s\u001b[0m eta \u001b[36m0:00:00\u001b[0m\n",
            "\u001b[?25hCollecting gwdatafind\n",
            "  Downloading gwdatafind-1.1.3-py3-none-any.whl (45 kB)\n",
            "\u001b[2K     \u001b[90m━━━━━━━━━━━━━━━━━━━━━━━━━━━━━━━━━━━━━━━━\u001b[0m \u001b[32m45.4/45.4 KB\u001b[0m \u001b[31m5.3 MB/s\u001b[0m eta \u001b[36m0:00:00\u001b[0m\n",
            "\u001b[?25hRequirement already satisfied: tqdm in /usr/local/lib/python3.8/dist-packages (from pycbc) (4.64.1)\n",
            "Requirement already satisfied: pillow in /usr/local/lib/python3.8/dist-packages (from pycbc) (8.4.0)\n",
            "Requirement already satisfied: pyerfa>=1.7.3 in /usr/local/lib/python3.8/dist-packages (from astropy->lalsuite) (2.0.0.1)\n",
            "Collecting pyOpenSSL\n",
            "  Downloading pyOpenSSL-23.0.0-py3-none-any.whl (57 kB)\n",
            "\u001b[2K     \u001b[90m━━━━━━━━━━━━━━━━━━━━━━━━━━━━━━━━━━━━━━━━\u001b[0m \u001b[32m57.3/57.3 KB\u001b[0m \u001b[31m7.2 MB/s\u001b[0m eta \u001b[36m0:00:00\u001b[0m\n",
            "\u001b[?25hCollecting pyRXP\n",
            "  Downloading pyRXP-3.0.1-cp38-cp38-manylinux_2_12_x86_64.manylinux2010_x86_64.whl (299 kB)\n",
            "\u001b[2K     \u001b[90m━━━━━━━━━━━━━━━━━━━━━━━━━━━━━━━━━━━━━━\u001b[0m \u001b[32m299.7/299.7 KB\u001b[0m \u001b[31m27.9 MB/s\u001b[0m eta \u001b[36m0:00:00\u001b[0m\n",
            "\u001b[?25hRequirement already satisfied: six in /usr/local/lib/python3.8/dist-packages (from lscsoft-glue->lalsuite) (1.15.0)\n",
            "Requirement already satisfied: MarkupSafe>=0.9.2 in /usr/local/lib/python3.8/dist-packages (from Mako>=1.0.1->pycbc) (2.1.2)\n",
            "Requirement already satisfied: pyparsing>=2.2.1 in /usr/local/lib/python3.8/dist-packages (from matplotlib->lalsuite) (3.0.9)\n",
            "Requirement already satisfied: kiwisolver>=1.0.1 in /usr/local/lib/python3.8/dist-packages (from matplotlib->lalsuite) (1.4.4)\n",
            "Requirement already satisfied: cycler>=0.10 in /usr/local/lib/python3.8/dist-packages (from matplotlib->lalsuite) (0.11.0)\n",
            "Requirement already satisfied: packaging>=20.0 in /usr/local/lib/python3.8/dist-packages (from matplotlib->lalsuite) (23.0)\n",
            "Requirement already satisfied: fonttools>=4.22.0 in /usr/local/lib/python3.8/dist-packages (from matplotlib->lalsuite) (4.38.0)\n",
            "Collecting pegasus-wms.common\n",
            "  Downloading pegasus-wms.common-5.0.5.tar.gz (41 kB)\n",
            "\u001b[2K     \u001b[90m━━━━━━━━━━━━━━━━━━━━━━━━━━━━━━━━━━━━━━━━\u001b[0m \u001b[32m41.2/41.2 KB\u001b[0m \u001b[31m3.7 MB/s\u001b[0m eta \u001b[36m0:00:00\u001b[0m\n",
            "\u001b[?25h  Preparing metadata (setup.py) ... \u001b[?25l\u001b[?25hdone\n",
            "Requirement already satisfied: pyyaml in /usr/local/lib/python3.8/dist-packages (from python-ligo-lw>=1.7.0->pycbc) (6.0)\n",
            "Collecting igwn-auth-utils>=0.3.1\n",
            "  Downloading igwn_auth_utils-0.4.0-py3-none-any.whl (22 kB)\n",
            "Collecting scitokens>=1.7.0\n",
            "  Downloading scitokens-1.7.4-py3-none-any.whl (27 kB)\n",
            "Requirement already satisfied: requests>=2.14 in /usr/local/lib/python3.8/dist-packages (from igwn-auth-utils>=0.3.1->gwdatafind->pycbc) (2.25.1)\n",
            "Collecting safe-netrc>=1.0.0\n",
            "  Downloading safe_netrc-1.0.1-py3-none-any.whl (10 kB)\n",
            "Collecting cryptography>=2.3\n",
            "  Downloading cryptography-39.0.2-cp36-abi3-manylinux_2_28_x86_64.whl (4.2 MB)\n",
            "\u001b[2K     \u001b[90m━━━━━━━━━━━━━━━━━━━━━━━━━━━━━━━━━━━━━━━━\u001b[0m \u001b[32m4.2/4.2 MB\u001b[0m \u001b[31m69.3 MB/s\u001b[0m eta \u001b[36m0:00:00\u001b[0m\n",
            "\u001b[?25hRequirement already satisfied: cffi>=1.12 in /usr/local/lib/python3.8/dist-packages (from cryptography>=2.3->igwn-auth-utils>=0.3.1->gwdatafind->pycbc) (1.15.1)\n",
            "Requirement already satisfied: urllib3<1.27,>=1.21.1 in /usr/local/lib/python3.8/dist-packages (from requests>=2.14->igwn-auth-utils>=0.3.1->gwdatafind->pycbc) (1.26.14)\n",
            "Requirement already satisfied: certifi>=2017.4.17 in /usr/local/lib/python3.8/dist-packages (from requests>=2.14->igwn-auth-utils>=0.3.1->gwdatafind->pycbc) (2022.12.7)\n",
            "Requirement already satisfied: chardet<5,>=3.0.2 in /usr/local/lib/python3.8/dist-packages (from requests>=2.14->igwn-auth-utils>=0.3.1->gwdatafind->pycbc) (4.0.0)\n",
            "Requirement already satisfied: idna<3,>=2.5 in /usr/local/lib/python3.8/dist-packages (from requests>=2.14->igwn-auth-utils>=0.3.1->gwdatafind->pycbc) (2.10)\n",
            "Collecting PyJWT>=1.6.1\n",
            "  Downloading PyJWT-2.6.0-py3-none-any.whl (20 kB)\n",
            "Requirement already satisfied: pycparser in /usr/local/lib/python3.8/dist-packages (from cffi>=1.12->cryptography>=2.3->igwn-auth-utils>=0.3.1->gwdatafind->pycbc) (2.21)\n",
            "Building wheels for collected packages: lscsoft-glue, pegasus-wms.api, python-ligo-lw, ligo-segments, pegasus-wms.common\n",
            "  Building wheel for lscsoft-glue (pyproject.toml) ... \u001b[?25l\u001b[?25hdone\n",
            "  Created wheel for lscsoft-glue: filename=lscsoft_glue-3.0.1-cp38-cp38-linux_x86_64.whl size=264736 sha256=612bf0159ea329c49041311b5ab939e2efb91c7cf0742d2098c067677286e2f1\n",
            "  Stored in directory: /root/.cache/pip/wheels/00/2d/8b/4dd8e65ff4068d810b396812db2d9f1500cb6fc42339b7c363\n",
            "  Building wheel for pegasus-wms.api (setup.py) ... \u001b[?25l\u001b[?25hdone\n",
            "  Created wheel for pegasus-wms.api: filename=pegasus_wms.api-5.0.5-py3-none-any.whl size=50029 sha256=0b9563c4d11d96b3486939f5aa57d0e1a6b038459c85d93e2c1471de53a4b292\n",
            "  Stored in directory: /root/.cache/pip/wheels/7c/51/ce/5ea958d80b2935c10604c2f8621349bfae660ec6b3e122e345\n",
            "  Building wheel for python-ligo-lw (setup.py) ... \u001b[?25l\u001b[?25hdone\n",
            "  Created wheel for python-ligo-lw: filename=python_ligo_lw-1.8.3-cp38-cp38-linux_x86_64.whl size=166535 sha256=f839de4bef58ae25576ff874a1e0ec088a00830a62a79bf215952b4d9ee3f8dc\n",
            "  Stored in directory: /root/.cache/pip/wheels/99/69/ff/b4d6adf93b79197925a262b53b800f61a99b9a8fab4b78b43c\n",
            "  Building wheel for ligo-segments (setup.py) ... \u001b[?25l\u001b[?25hdone\n",
            "  Created wheel for ligo-segments: filename=ligo_segments-1.4.0-cp38-cp38-linux_x86_64.whl size=106059 sha256=a25660d1e5bee1f47f84df6bfd52ddc6ae5d4c8ac09e32c78a27f19d40a82155\n",
            "  Stored in directory: /root/.cache/pip/wheels/3c/22/bd/6e3de97386f4d20261f7f76a6bd322e685999ef720f8054e31\n",
            "  Building wheel for pegasus-wms.common (setup.py) ... \u001b[?25l\u001b[?25hdone\n",
            "  Created wheel for pegasus-wms.common: filename=pegasus_wms.common-5.0.5-py3-none-any.whl size=46251 sha256=e6da2cfb31851e84a7ab1559ac9f29e0cc7badcec81a161d9e94e16aab27806b\n",
            "  Stored in directory: /root/.cache/pip/wheels/b7/90/15/a42dd880a02eccc663672eff9a58ca203022e1ea997f559d76\n",
            "Successfully built lscsoft-glue pegasus-wms.api python-ligo-lw ligo-segments pegasus-wms.common\n",
            "Installing collected packages: safe-netrc, pyRXP, PyJWT, pegasus-wms.common, Mako, ligo-segments, pegasus-wms.api, cryptography, scitokens, pyOpenSSL, mpld3, lscsoft-glue, igwn-auth-utils, python-ligo-lw, lalsuite, gwdatafind, pycbc\n",
            "Successfully installed Mako-1.2.4 PyJWT-2.6.0 cryptography-39.0.2 gwdatafind-1.1.3 igwn-auth-utils-0.4.0 lalsuite-7.11 ligo-segments-1.4.0 lscsoft-glue-3.0.1 mpld3-0.5.9 pegasus-wms.api-5.0.5 pegasus-wms.common-5.0.5 pyOpenSSL-23.0.0 pyRXP-3.0.1 pycbc-2.1.0 python-ligo-lw-1.8.3 safe-netrc-1.0.1 scitokens-1.7.4\n"
          ]
        }
      ]
    },
    {
      "cell_type": "code",
      "source": [],
      "metadata": {
        "id": "kDubD60Oh_Db"
      },
      "execution_count": null,
      "outputs": []
    },
    {
      "cell_type": "markdown",
      "source": [
        "**PROBLEM 1**"
      ],
      "metadata": {
        "id": "LlCf7i1fh_kT"
      }
    },
    {
      "cell_type": "code",
      "execution_count": 2,
      "metadata": {
        "colab": {
          "base_uri": "https://localhost:8080/"
        },
        "id": "cFvLEGfHe6YH",
        "outputId": "743935c0-9204-4a50-dc70-b719c40653ca"
      },
      "outputs": [
        {
          "output_type": "stream",
          "name": "stdout",
          "text": [
            "--2023-03-06 15:42:35--  https://dcc.ligo.org/public/0146/P1700349/001/H-H1_LOSC_CLN_4_V1-1187007040-2048.gwf\n",
            "Resolving dcc.ligo.org (dcc.ligo.org)... 131.215.125.144\n",
            "Connecting to dcc.ligo.org (dcc.ligo.org)|131.215.125.144|:443... connected.\n",
            "HTTP request sent, awaiting response... 200 OK\n",
            "Length: 57824232 (55M)\n",
            "Saving to: ‘H-H1_LOSC_CLN_4_V1-1187007040-2048.gwf’\n",
            "\n",
            "H-H1_LOSC_CLN_4_V1- 100%[===================>]  55.14M  17.3MB/s    in 3.9s    \n",
            "\n",
            "2023-03-06 15:42:40 (14.1 MB/s) - ‘H-H1_LOSC_CLN_4_V1-1187007040-2048.gwf’ saved [57824232/57824232]\n",
            "\n",
            "--2023-03-06 15:42:40--  https://dcc.ligo.org/public/0146/P1700349/001/L-L1_LOSC_CLN_4_V1-1187007040-2048.gwf\n",
            "Resolving dcc.ligo.org (dcc.ligo.org)... 131.215.125.144\n",
            "Connecting to dcc.ligo.org (dcc.ligo.org)|131.215.125.144|:443... connected.\n",
            "HTTP request sent, awaiting response... 200 OK\n",
            "Length: 62070438 (59M)\n",
            "Saving to: ‘L-L1_LOSC_CLN_4_V1-1187007040-2048.gwf’\n",
            "\n",
            "L-L1_LOSC_CLN_4_V1- 100%[===================>]  59.19M  18.3MB/s    in 4.2s    \n",
            "\n",
            "2023-03-06 15:42:45 (14.0 MB/s) - ‘L-L1_LOSC_CLN_4_V1-1187007040-2048.gwf’ saved [62070438/62070438]\n",
            "\n"
          ]
        }
      ],
      "source": [
        "!wget -nc https://dcc.ligo.org/public/0146/P1700349/001/H-H1_LOSC_CLN_4_V1-1187007040-2048.gwf\n",
        "!wget -nc https://dcc.ligo.org/public/0146/P1700349/001/L-L1_LOSC_CLN_4_V1-1187007040-2048.gwf"
      ]
    },
    {
      "cell_type": "code",
      "source": [
        "#Then run the following command to load the strain data. \n",
        "%matplotlib inline\n",
        "import pylab\n",
        "from pycbc.filter import highpass\n",
        "from pycbc.catalog import Merger\n",
        "from pycbc.frame import read_frame\n",
        "from pycbc.filter import resample_to_delta_t, highpass\n",
        "\n",
        "merger = Merger(\"GW170817\")\n",
        "strain, stilde = {}, {}\n",
        "for ifo in ['H1', 'L1']:\n",
        "   # We'll download the data and select 256 seconds that includes the event time\n",
        "   ts = read_frame(\"{}-{}_LOSC_CLN_4_V1-1187007040-2048.gwf\".format(ifo[0], ifo),\n",
        "                   '{}:LOSC-STRAIN'.format(ifo),\n",
        "                  start_time=merger.time - 224,\n",
        "                  end_time=merger.time + 32,\n",
        "                  check_integrity=False)\n",
        "  \n",
        "   # Read the detector data and remove low frequency content\n",
        "   strain[ifo] = resample_to_delta_t(highpass(ts, 15.0), 1.0/2048)\n",
        " \n",
        "   # Remove time corrupted by the high pass filter\n",
        "   strain[ifo] = strain[ifo].crop(4, 4)\n",
        "  \n",
        "   # Also create a frequency domain version of the data\n",
        "   stilde[ifo] = strain[ifo].to_frequencyseries()\n",
        " \n",
        " \n",
        "#print (strain.delta_t)\n",
        "pylab.plot(strain['H1'].sample_times, strain['H1'], label= 'H1')\n",
        "pylab.plot(strain['L1'].sample_times, strain['L1'], label= 'L1')\n",
        "pylab.legend()\n",
        "pylab.xlabel('Time (s)')\n",
        "pylab.ylabel('strain')\n",
        "pylab.show()\n"
      ],
      "metadata": {
        "colab": {
          "base_uri": "https://localhost:8080/",
          "height": 290
        },
        "id": "zEU2ZDHOgFyy",
        "outputId": "0c0ce483-0c28-414d-e475-4876e45ac51d"
      },
      "execution_count": 3,
      "outputs": [
        {
          "output_type": "display_data",
          "data": {
            "text/plain": [
              "<Figure size 432x288 with 1 Axes>"
            ],
            "image/png": "[encoded data removed]"
          },
          "metadata": {
            "needs_background": "light"
          }
        }
      ]
    },
    {
      "cell_type": "code",
      "source": [
        "from google.colab import drive\n",
        "drive.mount('/content/drive')"
      ],
      "metadata": {
        "colab": {
          "base_uri": "https://localhost:8080/"
        },
        "id": "VsD2LTeInsvu",
        "outputId": "48aece3b-4f68-4426-9c3c-58edd5d5b217"
      },
      "execution_count": 5,
      "outputs": [
        {
          "output_type": "stream",
          "name": "stdout",
          "text": [
            "Mounted at /content/drive\n"
          ]
        }
      ]
    },
    {
      "cell_type": "markdown",
      "source": [
        "**PROBLEM 2**"
      ],
      "metadata": {
        "id": "il_Yz9zDofCw"
      }
    },
    {
      "cell_type": "code",
      "source": [
        "#Problem 2\n",
        "#first download the data from the assignament \n",
        "import numpy as np\n",
        "from pycbc import types\n",
        "\n",
        "'''\n",
        "Loading the data and converting the data type into time series\n",
        "'''\n",
        "d = np.load('/content/drive/MyDrive/noise_ts_4096Hz.npy') #name of the data file noise_ts_4096Hz.npy\n",
        "dt = d[:, 0]\n",
        "d = types.TimeSeries(d[:, 1], delta_t = dt[1]- dt[0]) #this is to comvert data into GW timeSeries\n",
        "data = d"
      ],
      "metadata": {
        "id": "JpGAfaQkiOcP"
      },
      "execution_count": 10,
      "outputs": []
    }
  ]
}