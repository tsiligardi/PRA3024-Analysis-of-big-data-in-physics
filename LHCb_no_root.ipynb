{
  "nbformat": 4,
  "nbformat_minor": 0,
  "metadata": {
    "colab": {
      "provenance": [],
      "mount_file_id": "1v174KnMBg0eW17eBR8_toFmHGLkLAm2f",
      "authorship_tag": "ABX9TyNfC6md733kQl2N2kG6Taj3"
    },
    "kernelspec": {
      "name": "python3",
      "display_name": "Python 3"
    },
    "language_info": {
      "name": "python"
    }
  },
  "cells": [
    {
      "cell_type": "code",
      "execution_count": 10,
      "metadata": {
        "colab": {
          "base_uri": "https://localhost:8080/"
        },
        "id": "HGhO6ehgvw5Z",
        "outputId": "4e341a70-74df-4d45-bb95-a48344e07b52"
      },
      "outputs": [
        {
          "output_type": "stream",
          "name": "stdout",
          "text": [
            "Looking in indexes: https://pypi.org/simple, https://us-python.pkg.dev/colab-wheels/public/simple/\n",
            "Requirement already satisfied: uproot in /usr/local/lib/python3.8/dist-packages (5.0.2)\n",
            "Requirement already satisfied: awkward in /usr/local/lib/python3.8/dist-packages (2.0.7)\n",
            "Requirement already satisfied: lz4 in /usr/local/lib/python3.8/dist-packages (4.3.2)\n",
            "Requirement already satisfied: xxhash in /usr/local/lib/python3.8/dist-packages (3.2.0)\n",
            "Requirement already satisfied: packaging in /usr/local/lib/python3.8/dist-packages (from uproot) (23.0)\n",
            "Requirement already satisfied: numpy in /usr/local/lib/python3.8/dist-packages (from uproot) (1.21.6)\n",
            "Requirement already satisfied: typing-extensions>=4.1.0 in /usr/local/lib/python3.8/dist-packages (from awkward) (4.4.0)\n",
            "Requirement already satisfied: awkward-cpp==8 in /usr/local/lib/python3.8/dist-packages (from awkward) (8)\n",
            "Requirement already satisfied: importlib-resources in /usr/local/lib/python3.8/dist-packages (from awkward) (5.10.2)\n",
            "Requirement already satisfied: zipp>=3.1.0 in /usr/local/lib/python3.8/dist-packages (from importlib-resources->awkward) (3.12.1)\n"
          ]
        }
      ],
      "source": [
        "!pip install uproot awkward lz4 xxhash\n"
      ]
    },
    {
      "cell_type": "code",
      "source": [
        "import uproot\n",
        "f=uproot.open (\"/content/drive/MyDrive/B2HHH_MagnetDown.root\")\n",
        "f.keys()"
      ],
      "metadata": {
        "colab": {
          "base_uri": "https://localhost:8080/"
        },
        "id": "sYb_rSHqwLOA",
        "outputId": "bd462b2d-61a6-4ccf-dc90-07b094be9aa1"
      },
      "execution_count": 11,
      "outputs": [
        {
          "output_type": "execute_result",
          "data": {
            "text/plain": [
              "['DecayTree;1']"
            ]
          },
          "metadata": {},
          "execution_count": 11
        }
      ]
    },
    {
      "cell_type": "code",
      "source": [
        "#plotting the total momentum of a daughter particle\n",
        "from numpy import *\n",
        "import matplotlib\n",
        "import matplotlib.pyplot as plt\n",
        "\n",
        "class Daughter:\n",
        "  def __init__(self, PX,PY,PZ):\n",
        "    self.PX=array(PX)#numpy array \n",
        "    self.PY=array(PY)\n",
        "    self.PZ=array(PZ)\n",
        "    self.PTOT=sqrt(square(self.PX)+square(self.PY)+square(self.PZ))#total momentum of the daughter particle\n",
        "    self.E=sqrt(square(self.PTOT)+493.677**2)#total energy of the particle\n",
        "\n",
        "\n",
        "#calculating the total momentum\n",
        "H1=Daughter(f[\"DecayTree/H1_PX\"].array(library=\"pd\"),f[\"DecayTree/H1_PY\"].array(library=\"pd\"),f[\"DecayTree/H1_PZ\"].array(library=\"pd\"))\n",
        "H2=Daughter(f[\"DecayTree/H2_PX\"].array(library=\"pd\"),f[\"DecayTree/H2_PY\"].array(library=\"pd\"),f[\"DecayTree/H2_PZ\"].array(library=\"pd\"))\n",
        "H3=Daughter(f[\"DecayTree/H3_PX\"].array(library=\"pd\"),f[\"DecayTree/H3_PY\"].array(library=\"pd\"),f[\"DecayTree/H3_PZ\"].array(library=\"pd\"))\n",
        "#plotting the hystogram\n",
        "plt.hist(H1.PTOT,300,(0,300000),histtype='step'); #the semicolon avoid printing the all array\n",
        "\n"
      ],
      "metadata": {
        "colab": {
          "base_uri": "https://localhost:8080/",
          "height": 265
        },
        "id": "hwyemWUjwdAn",
        "outputId": "fb1d922a-a4b6-44dc-9881-d4b420d24c50"
      },
      "execution_count": 15,
      "outputs": [
        {
          "output_type": "display_data",
          "data": {
            "text/plain": [
              "<Figure size 432x288 with 1 Axes>"
            ],
            "image/png": "[encoded data removed]"
          },
          "metadata": {
            "needs_background": "light"
          }
        }
      ]
    },
    {
      "cell_type": "code",
      "source": [
        "#Calculating the total momentum of the mother \n",
        "mother_ptot=sqrt(square(H1.PX+H2.PX+H3.PX)+square(H1.PY+H2.PY+H3.PY)+square(H1.PZ+H2.PZ+H3.PZ))\n",
        "\n",
        "\n",
        "plt.hist(mother_ptot,300,(0,300000),histtype='step');"
      ],
      "metadata": {
        "colab": {
          "base_uri": "https://localhost:8080/",
          "height": 265
        },
        "id": "mWt1PJd02C_c",
        "outputId": "dadcd927-02d9-4cc9-aac9-89e9b93394cd"
      },
      "execution_count": 16,
      "outputs": [
        {
          "output_type": "display_data",
          "data": {
            "text/plain": [
              "<Figure size 432x288 with 1 Axes>"
            ],
            "image/png": "[encoded data removed]"
          },
          "metadata": {
            "needs_background": "light"
          }
        }
      ]
    },
    {
      "cell_type": "code",
      "source": [
        "#total mass of the mother\n",
        "mass_mother=sqrt(square(H1.E+H2.E+H3.E)-square(mother_ptot))\n",
        "\n",
        "plt.hist(mass_mother,300,(3000,7000),histtype='step');\n",
        "\n",
        "#Does this match what we would expect from theory?"
      ],
      "metadata": {
        "id": "la7xx6Qs6Y8x",
        "colab": {
          "base_uri": "https://localhost:8080/",
          "height": 265
        },
        "outputId": "505f63f6-facd-4145-f127-4e84e6c99686"
      },
      "execution_count": 17,
      "outputs": [
        {
          "output_type": "display_data",
          "data": {
            "text/plain": [
              "<Figure size 432x288 with 1 Axes>"
            ],
            "image/png": "[encoded data removed]"
          },
          "metadata": {
            "needs_background": "light"
          }
        }
      ]
    },
    {
      "cell_type": "markdown",
      "source": [
        "**ADD HERE EXPLANATION**"
      ],
      "metadata": {
        "id": "a7niamCHrr6a"
      }
    }
  ]
}