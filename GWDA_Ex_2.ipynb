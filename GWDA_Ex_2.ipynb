{
  "nbformat": 4,
  "nbformat_minor": 0,
  "metadata": {
    "colab": {
      "provenance": [],
      "authorship_tag": "ABX9TyPEgEXNEB+wwPFfkB0PthL+",
      "include_colab_link": true
    },
    "kernelspec": {
      "name": "python3",
      "display_name": "Python 3"
    },
    "language_info": {
      "name": "python"
    }
  },
  "cells": [
    {
      "cell_type": "markdown",
      "metadata": {
        "id": "view-in-github",
        "colab_type": "text"
      },
      "source": [
        "<a href=\"https://colab.research.google.com/github/tsiligardi/PRA3024-Analysis-of-big-data-in-physics/blob/main/GWDA_Ex_2.ipynb\" target=\"_parent\"><img src=\"https://colab.research.google.com/assets/colab-badge.svg\" alt=\"Open In Colab\"/></a>"
      ]
    },
    {
      "cell_type": "markdown",
      "source": [
        "**PROBLEM 2**\n"
      ],
      "metadata": {
        "id": "orJe0adz0XQw"
      }
    },
    {
      "cell_type": "code",
      "source": [
        "import sys\n",
        "!{sys.executable} -m pip install lalsuite pycbc\n"
      ],
      "metadata": {
        "colab": {
          "base_uri": "https://localhost:8080/"
        },
        "id": "DrKxrf-igG3i",
        "outputId": "29c1eb40-6ced-497e-9d94-2ec5050d8393"
      },
      "execution_count": 1,
      "outputs": [
        {
          "output_type": "stream",
          "name": "stdout",
          "text": [
            "Looking in indexes: https://pypi.org/simple, https://us-python.pkg.dev/colab-wheels/public/simple/\n",
            "Collecting lalsuite\n",
            "  Downloading lalsuite-7.13-cp38-cp38-manylinux_2_28_x86_64.whl (47.1 MB)\n",
            "\u001b[2K     \u001b[90m━━━━━━━━━━━━━━━━━━━━━━━━━━━━━━━━━━━━━━━━\u001b[0m \u001b[32m47.1/47.1 MB\u001b[0m \u001b[31m8.8 MB/s\u001b[0m eta \u001b[36m0:00:00\u001b[0m\n",
            "\u001b[?25hCollecting pycbc\n",
            "  Downloading PyCBC-2.1.0-cp38-cp38-manylinux_2_17_x86_64.manylinux2014_x86_64.whl (7.5 MB)\n",
            "\u001b[2K     \u001b[90m━━━━━━━━━━━━━━━━━━━━━━━━━━━━━━━━━━━━━━━━\u001b[0m \u001b[32m7.5/7.5 MB\u001b[0m \u001b[31m13.6 MB/s\u001b[0m eta \u001b[36m0:00:00\u001b[0m\n",
            "\u001b[?25hRequirement already satisfied: importlib-resources>=1.3.0 in /usr/local/lib/python3.8/dist-packages (from lalsuite) (5.12.0)\n",
            "Requirement already satisfied: matplotlib in /usr/local/lib/python3.8/dist-packages (from lalsuite) (3.5.3)\n",
            "Requirement already satisfied: astropy in /usr/local/lib/python3.8/dist-packages (from lalsuite) (4.3.1)\n",
            "Collecting ligo-segments\n",
            "  Downloading ligo-segments-1.4.0.tar.gz (51 kB)\n",
            "\u001b[2K     \u001b[90m━━━━━━━━━━━━━━━━━━━━━━━━━━━━━━━━━━━━━━━━\u001b[0m \u001b[32m51.0/51.0 KB\u001b[0m \u001b[31m3.8 MB/s\u001b[0m eta \u001b[36m0:00:00\u001b[0m\n",
            "\u001b[?25h  Preparing metadata (setup.py) ... \u001b[?25l\u001b[?25hdone\n",
            "Requirement already satisfied: scipy in /usr/local/lib/python3.8/dist-packages (from lalsuite) (1.10.1)\n",
            "Collecting lscsoft-glue\n",
            "  Downloading lscsoft-glue-3.0.1.tar.gz (1.4 MB)\n",
            "\u001b[2K     \u001b[90m━━━━━━━━━━━━━━━━━━━━━━━━━━━━━━━━━━━━━━━━\u001b[0m \u001b[32m1.4/1.4 MB\u001b[0m \u001b[31m20.3 MB/s\u001b[0m eta \u001b[36m0:00:00\u001b[0m\n",
            "\u001b[?25h  Installing build dependencies ... \u001b[?25l\u001b[?25hdone\n",
            "  Getting requirements to build wheel ... \u001b[?25l\u001b[?25hdone\n",
            "  Preparing metadata (pyproject.toml) ... \u001b[?25l\u001b[?25hdone\n",
            "Requirement already satisfied: python-dateutil in /usr/local/lib/python3.8/dist-packages (from lalsuite) (2.8.2)\n",
            "Requirement already satisfied: numpy>=1.7 in /usr/local/lib/python3.8/dist-packages (from lalsuite) (1.22.4)\n",
            "Requirement already satisfied: beautifulsoup4>=4.6.0 in /usr/local/lib/python3.8/dist-packages (from pycbc) (4.6.3)\n",
            "Requirement already satisfied: tqdm in /usr/local/lib/python3.8/dist-packages (from pycbc) (4.64.1)\n",
            "Collecting Mako>=1.0.1\n",
            "  Downloading Mako-1.2.4-py3-none-any.whl (78 kB)\n",
            "\u001b[2K     \u001b[90m━━━━━━━━━━━━━━━━━━━━━━━━━━━━━━━━━━━━━━━━\u001b[0m \u001b[32m78.7/78.7 KB\u001b[0m \u001b[31m11.0 MB/s\u001b[0m eta \u001b[36m0:00:00\u001b[0m\n",
            "\u001b[?25hRequirement already satisfied: setuptools in /usr/local/lib/python3.8/dist-packages (from pycbc) (57.4.0)\n",
            "Collecting gwdatafind\n",
            "  Downloading gwdatafind-1.1.3-py3-none-any.whl (45 kB)\n",
            "\u001b[2K     \u001b[90m━━━━━━━━━━━━━━━━━━━━━━━━━━━━━━━━━━━━━━━━\u001b[0m \u001b[32m45.4/45.4 KB\u001b[0m \u001b[31m6.4 MB/s\u001b[0m eta \u001b[36m0:00:00\u001b[0m\n",
            "\u001b[?25hRequirement already satisfied: h5py!=3.7.0,>=3.0.0 in /usr/local/lib/python3.8/dist-packages (from pycbc) (3.1.0)\n",
            "Requirement already satisfied: pillow in /usr/local/lib/python3.8/dist-packages (from pycbc) (8.4.0)\n",
            "Requirement already satisfied: cython>=0.29 in /usr/local/lib/python3.8/dist-packages (from pycbc) (0.29.33)\n",
            "Collecting python-ligo-lw>=1.7.0\n",
            "  Downloading python-ligo-lw-1.8.3.tar.gz (2.3 MB)\n",
            "\u001b[2K     \u001b[90m━━━━━━━━━━━━━━━━━━━━━━━━━━━━━━━━━━━━━━━━\u001b[0m \u001b[32m2.3/2.3 MB\u001b[0m \u001b[31m83.8 MB/s\u001b[0m eta \u001b[36m0:00:00\u001b[0m\n",
            "\u001b[?25h  Preparing metadata (setup.py) ... \u001b[?25l\u001b[?25hdone\n",
            "Collecting mpld3>=0.3\n",
            "  Downloading mpld3-0.5.9-py3-none-any.whl (201 kB)\n",
            "\u001b[2K     \u001b[90m━━━━━━━━━━━━━━━━━━━━━━━━━━━━━━━━━━━━━━\u001b[0m \u001b[32m201.2/201.2 KB\u001b[0m \u001b[31m15.5 MB/s\u001b[0m eta \u001b[36m0:00:00\u001b[0m\n",
            "\u001b[?25hCollecting pegasus-wms.api>=5.0.3\n",
            "  Downloading pegasus-wms.api-5.0.5.tar.gz (44 kB)\n",
            "\u001b[2K     \u001b[90m━━━━━━━━━━━━━━━━━━━━━━━━━━━━━━━━━━━━━━━━\u001b[0m \u001b[32m44.4/44.4 KB\u001b[0m \u001b[31m6.1 MB/s\u001b[0m eta \u001b[36m0:00:00\u001b[0m\n",
            "\u001b[?25h  Preparing metadata (setup.py) ... \u001b[?25l\u001b[?25hdone\n",
            "Requirement already satisfied: jinja2 in /usr/local/lib/python3.8/dist-packages (from pycbc) (3.1.2)\n",
            "Requirement already satisfied: pyerfa>=1.7.3 in /usr/local/lib/python3.8/dist-packages (from astropy->lalsuite) (2.0.0.1)\n",
            "Requirement already satisfied: zipp>=3.1.0 in /usr/local/lib/python3.8/dist-packages (from importlib-resources>=1.3.0->lalsuite) (3.15.0)\n",
            "Collecting pyOpenSSL\n",
            "  Downloading pyOpenSSL-23.0.0-py3-none-any.whl (57 kB)\n",
            "\u001b[2K     \u001b[90m━━━━━━━━━━━━━━━━━━━━━━━━━━━━━━━━━━━━━━━━\u001b[0m \u001b[32m57.3/57.3 KB\u001b[0m \u001b[31m8.2 MB/s\u001b[0m eta \u001b[36m0:00:00\u001b[0m\n",
            "\u001b[?25hCollecting pyRXP\n",
            "  Downloading pyRXP-3.0.1-cp38-cp38-manylinux_2_12_x86_64.manylinux2010_x86_64.whl (299 kB)\n",
            "\u001b[2K     \u001b[90m━━━━━━━━━━━━━━━━━━━━━━━━━━━━━━━━━━━━━━\u001b[0m \u001b[32m299.7/299.7 KB\u001b[0m \u001b[31m35.8 MB/s\u001b[0m eta \u001b[36m0:00:00\u001b[0m\n",
            "\u001b[?25hRequirement already satisfied: six in /usr/local/lib/python3.8/dist-packages (from lscsoft-glue->lalsuite) (1.15.0)\n",
            "Requirement already satisfied: MarkupSafe>=0.9.2 in /usr/local/lib/python3.8/dist-packages (from Mako>=1.0.1->pycbc) (2.1.2)\n",
            "Requirement already satisfied: cycler>=0.10 in /usr/local/lib/python3.8/dist-packages (from matplotlib->lalsuite) (0.11.0)\n",
            "Requirement already satisfied: pyparsing>=2.2.1 in /usr/local/lib/python3.8/dist-packages (from matplotlib->lalsuite) (3.0.9)\n",
            "Requirement already satisfied: packaging>=20.0 in /usr/local/lib/python3.8/dist-packages (from matplotlib->lalsuite) (23.0)\n",
            "Requirement already satisfied: kiwisolver>=1.0.1 in /usr/local/lib/python3.8/dist-packages (from matplotlib->lalsuite) (1.4.4)\n",
            "Requirement already satisfied: fonttools>=4.22.0 in /usr/local/lib/python3.8/dist-packages (from matplotlib->lalsuite) (4.38.0)\n",
            "Collecting pegasus-wms.common\n",
            "  Downloading pegasus-wms.common-5.0.5.tar.gz (41 kB)\n",
            "\u001b[2K     \u001b[90m━━━━━━━━━━━━━━━━━━━━━━━━━━━━━━━━━━━━━━━━\u001b[0m \u001b[32m41.2/41.2 KB\u001b[0m \u001b[31m6.2 MB/s\u001b[0m eta \u001b[36m0:00:00\u001b[0m\n",
            "\u001b[?25h  Preparing metadata (setup.py) ... \u001b[?25l\u001b[?25hdone\n",
            "Requirement already satisfied: pyyaml in /usr/local/lib/python3.8/dist-packages (from python-ligo-lw>=1.7.0->pycbc) (6.0)\n",
            "Collecting igwn-auth-utils>=0.3.1\n",
            "  Downloading igwn_auth_utils-0.4.0-py3-none-any.whl (22 kB)\n",
            "Requirement already satisfied: requests>=2.14 in /usr/local/lib/python3.8/dist-packages (from igwn-auth-utils>=0.3.1->gwdatafind->pycbc) (2.25.1)\n",
            "Collecting safe-netrc>=1.0.0\n",
            "  Downloading safe_netrc-1.0.1-py3-none-any.whl (10 kB)\n",
            "Collecting cryptography>=2.3\n",
            "  Downloading cryptography-39.0.2-cp36-abi3-manylinux_2_28_x86_64.whl (4.2 MB)\n",
            "\u001b[2K     \u001b[90m━━━━━━━━━━━━━━━━━━━━━━━━━━━━━━━━━━━━━━━━\u001b[0m \u001b[32m4.2/4.2 MB\u001b[0m \u001b[31m93.6 MB/s\u001b[0m eta \u001b[36m0:00:00\u001b[0m\n",
            "\u001b[?25hCollecting scitokens>=1.7.0\n",
            "  Downloading scitokens-1.7.4-py3-none-any.whl (27 kB)\n",
            "Requirement already satisfied: cffi>=1.12 in /usr/local/lib/python3.8/dist-packages (from cryptography>=2.3->igwn-auth-utils>=0.3.1->gwdatafind->pycbc) (1.15.1)\n",
            "Requirement already satisfied: chardet<5,>=3.0.2 in /usr/local/lib/python3.8/dist-packages (from requests>=2.14->igwn-auth-utils>=0.3.1->gwdatafind->pycbc) (4.0.0)\n",
            "Requirement already satisfied: certifi>=2017.4.17 in /usr/local/lib/python3.8/dist-packages (from requests>=2.14->igwn-auth-utils>=0.3.1->gwdatafind->pycbc) (2022.12.7)\n",
            "Requirement already satisfied: urllib3<1.27,>=1.21.1 in /usr/local/lib/python3.8/dist-packages (from requests>=2.14->igwn-auth-utils>=0.3.1->gwdatafind->pycbc) (1.26.14)\n",
            "Requirement already satisfied: idna<3,>=2.5 in /usr/local/lib/python3.8/dist-packages (from requests>=2.14->igwn-auth-utils>=0.3.1->gwdatafind->pycbc) (2.10)\n",
            "Collecting PyJWT>=1.6.1\n",
            "  Downloading PyJWT-2.6.0-py3-none-any.whl (20 kB)\n",
            "Requirement already satisfied: pycparser in /usr/local/lib/python3.8/dist-packages (from cffi>=1.12->cryptography>=2.3->igwn-auth-utils>=0.3.1->gwdatafind->pycbc) (2.21)\n",
            "Building wheels for collected packages: lscsoft-glue, pegasus-wms.api, python-ligo-lw, ligo-segments, pegasus-wms.common\n",
            "  Building wheel for lscsoft-glue (pyproject.toml) ... \u001b[?25l\u001b[?25hdone\n",
            "  Created wheel for lscsoft-glue: filename=lscsoft_glue-3.0.1-cp38-cp38-linux_x86_64.whl size=264727 sha256=c2129926ae84211ad3a5abe9da0493aeba286e84fb02212993ba5460e475dd86\n",
            "  Stored in directory: /root/.cache/pip/wheels/00/2d/8b/4dd8e65ff4068d810b396812db2d9f1500cb6fc42339b7c363\n",
            "  Building wheel for pegasus-wms.api (setup.py) ... \u001b[?25l\u001b[?25hdone\n",
            "  Created wheel for pegasus-wms.api: filename=pegasus_wms.api-5.0.5-py3-none-any.whl size=50029 sha256=bb6157b060fdfe2f8c7d56983480c723ab5bd7d628a5022973d68a160d500fce\n",
            "  Stored in directory: /root/.cache/pip/wheels/7c/51/ce/5ea958d80b2935c10604c2f8621349bfae660ec6b3e122e345\n",
            "  Building wheel for python-ligo-lw (setup.py) ... \u001b[?25l\u001b[?25hdone\n",
            "  Created wheel for python-ligo-lw: filename=python_ligo_lw-1.8.3-cp38-cp38-linux_x86_64.whl size=166532 sha256=7cb088e4d22b497a1f69e1e29ba2ea2eb2df744341816a55e0ca6f08453f11b9\n",
            "  Stored in directory: /root/.cache/pip/wheels/99/69/ff/b4d6adf93b79197925a262b53b800f61a99b9a8fab4b78b43c\n",
            "  Building wheel for ligo-segments (setup.py) ... \u001b[?25l\u001b[?25hdone\n",
            "  Created wheel for ligo-segments: filename=ligo_segments-1.4.0-cp38-cp38-linux_x86_64.whl size=106076 sha256=0fa92cd6bbb137dbb447c8df74285093936c822b75b643ebeed040850b48dcf4\n",
            "  Stored in directory: /root/.cache/pip/wheels/3c/22/bd/6e3de97386f4d20261f7f76a6bd322e685999ef720f8054e31\n",
            "  Building wheel for pegasus-wms.common (setup.py) ... \u001b[?25l\u001b[?25hdone\n",
            "  Created wheel for pegasus-wms.common: filename=pegasus_wms.common-5.0.5-py3-none-any.whl size=46251 sha256=b5e1bfafd27ec75b38eae9dc91dc352e7f821812b4dbf0728868569064cd6c3c\n",
            "  Stored in directory: /root/.cache/pip/wheels/b7/90/15/a42dd880a02eccc663672eff9a58ca203022e1ea997f559d76\n",
            "Successfully built lscsoft-glue pegasus-wms.api python-ligo-lw ligo-segments pegasus-wms.common\n",
            "Installing collected packages: safe-netrc, pyRXP, PyJWT, pegasus-wms.common, Mako, ligo-segments, pegasus-wms.api, cryptography, scitokens, pyOpenSSL, mpld3, lscsoft-glue, igwn-auth-utils, python-ligo-lw, lalsuite, gwdatafind, pycbc\n",
            "Successfully installed Mako-1.2.4 PyJWT-2.6.0 cryptography-39.0.2 gwdatafind-1.1.3 igwn-auth-utils-0.4.0 lalsuite-7.13 ligo-segments-1.4.0 lscsoft-glue-3.0.1 mpld3-0.5.9 pegasus-wms.api-5.0.5 pegasus-wms.common-5.0.5 pyOpenSSL-23.0.0 pyRXP-3.0.1 pycbc-2.1.0 python-ligo-lw-1.8.3 safe-netrc-1.0.1 scitokens-1.7.4\n"
          ]
        }
      ]
    },
    {
      "cell_type": "code",
      "execution_count": 2,
      "metadata": {
        "colab": {
          "base_uri": "https://localhost:8080/"
        },
        "id": "ugszc6EC0PUj",
        "outputId": "ef75d8fb-139d-45d4-80fd-28d5304e1533"
      },
      "outputs": [
        {
          "output_type": "stream",
          "name": "stdout",
          "text": [
            "Mounted at /content/drive\n"
          ]
        }
      ],
      "source": [
        "#Mounting drive on colab\n",
        "#if not working on colab, ignore this part\n",
        "from google.colab import drive\n",
        "drive.mount('/content/drive')"
      ]
    },
    {
      "cell_type": "code",
      "source": [
        "#Import the usefull libraries\n",
        "%matplotlib inline\n",
        "import pylab\n",
        "import lal\n",
        "from pycbc.filter import highpass,matched_filter,sigmasq\n",
        "from pycbc.conversions import mass1_from_mchirp_q\n",
        "from pycbc.catalog import Merger\n",
        "from pycbc.frame import read_frame\n",
        "from pycbc.filter import resample_to_delta_t, highpass\n",
        "import numpy as np\n",
        "from pycbc import types\n",
        "from pycbc.waveform import get_td_waveform,get_fd_waveform\n",
        "from pycbc.waveform import td_approximants, fd_approximants\n",
        "import pycbc.psd\n",
        "from pycbc.psd import interpolate\n"
      ],
      "metadata": {
        "id": "iBF2ffGY0qsU"
      },
      "execution_count": 3,
      "outputs": []
    },
    {
      "cell_type": "code",
      "source": [
        "#Problem 2\n",
        "#first download the data from the assignament \n",
        "\n",
        "'''\n",
        "Loading the data and converting the data type into time series\n",
        "'''\n",
        "d = np.load('/content/drive/MyDrive/noise_ts_4096Hz.npy') #name of the data file noise_ts_4096Hz.npy\n",
        "#Note that this import assume that the file with the date is imported in drive and you are working on colab\n",
        "dt = d[:, 0]\n",
        "d = types.TimeSeries(d[:, 1], delta_t = dt[1]- dt[0]) #this is to comvert data into GW timeSeries\n",
        "data = d"
      ],
      "metadata": {
        "id": "JpGAfaQkiOcP"
      },
      "execution_count": 4,
      "outputs": []
    },
    {
      "cell_type": "markdown",
      "source": [
        "**Part 1**\n",
        "<br>plot the noise power spectral\n",
        "density (PSD) of that data. Test whether there is any gravitational wave signal present\n",
        "in the data or not? For this test, you can assume the GW signals can produce only\n",
        "from equal mass binary systems with a range between 5 to 10. We assume a threshold\n",
        "on matched filter SNR of 8 to claim detection of GW"
      ],
      "metadata": {
        "id": "zMHkS-JOsSl-"
      }
    },
    {
      "cell_type": "code",
      "source": [
        "#getting strain and stilde from the data\n",
        "strain=resample_to_delta_t(highpass(data, 15.0), 1.0/2048).crop(4,4)#applying an high pass filter and downsampling\n",
        "stilde=strain.to_frequencyseries()\n",
        "#Calcularing the power spectral density\n",
        "delta_t = strain.delta_t\n",
        "seg_len = int(2 / delta_t)\n",
        "seg_stride = int(seg_len / 2) #how much overlapping of the segments\n",
        "psds  = pycbc.psd.welch(strain,#power spectral density\n",
        "                  seg_len=seg_len,\n",
        "                  seg_stride=seg_stride)\n",
        "\n",
        "psds = interpolate(psds, stilde.delta_f)\n",
        "\n",
        "pylab.loglog(psds.sample_frequencies, psds, );\n",
        "pylab.xlim(20, 1024);\n",
        "pylab.ylim(1e-47, 1e-42);"
      ],
      "metadata": {
        "colab": {
          "base_uri": "https://localhost:8080/",
          "height": 275
        },
        "id": "HjRKNax_1Q6C",
        "outputId": "66707ea2-ef2a-408f-ffbf-cea90b18dc92"
      },
      "execution_count": 5,
      "outputs": [
        {
          "output_type": "display_data",
          "data": {
            "text/plain": [
              "<Figure size 432x288 with 1 Axes>"
            ],
            "image/png": "[encoded data removed]"
          },
          "metadata": {
            "needs_background": "light"
          }
        }
      ]
    },
    {
      "cell_type": "code",
      "source": [
        "#Now I can determine the SNR. \n",
        "mass1 = np.arange(5, 10,0.5 ) #I am aware it is not a big range, but the calculation is pretty lengthy and in this way I can speed it up a bit\n",
        "mass2 = mass1\n",
        "Snr_list = []\n",
        "for m in mass1:\n",
        "  hp, hc = get_td_waveform(approximant=\"TaylorT2\", #generating the waveform\n",
        "                     mass1=m,\n",
        "                     mass2=m,\n",
        "                     delta_t=strain.delta_t,\n",
        "                     f_lower=15.0)\n",
        "  hp.resize(len(strain))#resizing\n",
        "  template = hp.cyclic_time_shift(hp.start_time)#creating the template\n",
        "    \n",
        "  snr = matched_filter(template, strain,\n",
        "                    psd=psds, low_frequency_cutoff=15.0)#Determine the snr\n",
        "  snr_H1 = snr.crop(4 + 4, 4)\n",
        "\n",
        "\n",
        "  Snr_list.append(max(abs(snr_H1)))#append the snr to the list\n",
        "\n",
        "\n",
        "pylab.figure(figsize=[10, 4])\n",
        "pylab.plot(mass1,Snr_list)\n",
        "pylab.ylabel('Signal-to-noise')\n",
        "pylab.xlabel('mass')\n",
        "pylab.show()\n",
        "  "
      ],
      "metadata": {
        "colab": {
          "base_uri": "https://localhost:8080/",
          "height": 279
        },
        "id": "1xKRVIH8418l",
        "outputId": "f98ea291-62c4-43c0-85ed-a197a04b3e41"
      },
      "execution_count": 6,
      "outputs": [
        {
          "output_type": "display_data",
          "data": {
            "text/plain": [
              "<Figure size 720x288 with 1 Axes>"
            ],
            "image/png": "[encoded data removed]"
          },
          "metadata": {
            "needs_background": "light"
          }
        }
      ]
    },
    {
      "cell_type": "markdown",
      "source": [
        "From the graph we can see that SNR<8. Therefore, we can state that there is no signal in our data"
      ],
      "metadata": {
        "id": "e7llYH5PClq7"
      }
    },
    {
      "cell_type": "markdown",
      "source": [
        "**Part 2**\n",
        "<br>Whiten the above data using its noise PSD. You can use PyCBC based function of the\n",
        "Welch method to estimate the PSD. Construct a histogram of the whitened data and\n",
        "show that the whiten data follows a Gaussian distribution with zero mean."
      ],
      "metadata": {
        "id": "zrnUq_3LD6-O"
      }
    },
    {
      "cell_type": "code",
      "source": [
        "import scipy\n",
        "from scipy.stats import norm\n",
        "#whitening the data\n",
        "white_data=(strain.to_frequencyseries()/psds**0.5).to_timeseries()\n",
        "limits=(-300,300)#setting the limits of the histogram\n",
        "#Fitting the data to a normal distribution\n",
        "mean,sd=norm.fit(white_data)\n",
        "#creating the gaussian\n",
        "x=np.linspace(*limits,300)\n",
        "gauss=norm.pdf(x,mean,sd)\n",
        "#plotting --fix the plotting (or the fitting)\n",
        "pylab.plot(x,gauss,'k',label='gaussian');\n",
        "y=pylab.hist(white_data,bins=300,density=True,label='data')\n",
        "pylab.xlim(*limits);\n",
        "pylab.legend();\n",
        "pylab.title(\"$\\mu={}$ , $\\sigma={}$\".format(mean,sd));\n",
        "pylab.xlabel(\"white background\")\n",
        "pylab.ylabel(\"probability\")"
      ],
      "metadata": {
        "colab": {
          "base_uri": "https://localhost:8080/",
          "height": 313
        },
        "id": "HwAWPkIWGnRd",
        "outputId": "e46c6af9-7a6e-48be-cedc-271bd5136601"
      },
      "execution_count": 7,
      "outputs": [
        {
          "output_type": "execute_result",
          "data": {
            "text/plain": [
              "Text(0, 0.5, 'probability')"
            ]
          },
          "metadata": {},
          "execution_count": 7
        },
        {
          "output_type": "display_data",
          "data": {
            "text/plain": [
              "<Figure size 432x288 with 1 Axes>"
            ],
            "image/png": "[encoded data removed]"
          },
          "metadata": {
            "needs_background": "light"
          }
        }
      ]
    },
    {
      "cell_type": "markdown",
      "source": [
        "The mean is not exactly 0 as expected, however it is close enough to if (-0.9)"
      ],
      "metadata": {
        "id": "VMU7dIAqfX74"
      }
    },
    {
      "cell_type": "markdown",
      "source": [
        "**Part 3**\n",
        "<br>In gravitational wave data analysis, we consider that the noise is stationary Gaussian.\n",
        "But in reality, the stationary assumption does not hold. Can you think of a test to\n",
        "show that the stationarity does not hold?"
      ],
      "metadata": {
        "id": "N2YLKUIWkCvi"
      }
    },
    {
      "cell_type": "code",
      "source": [],
      "metadata": {
        "id": "5Pm4-Lu4lwVI"
      },
      "execution_count": 7,
      "outputs": []
    },
    {
      "cell_type": "code",
      "source": [
        "#dividing into time slices\n",
        "n=20 #number of chunks\n",
        "d=white_data.duration/n #duration of each chunk\n",
        "t_i=white_data.start_time\n",
        "t_f=t_i\n",
        "chunks=[]\n",
        "print(n,d,t_i,t_f)\n",
        "print(strain.end_time)\n",
        "\n",
        "while(t_f != white_data.end_time):\n",
        "  t_f+=d\n",
        "  chunks.append(white_data.time_slice(t_i,t_f))\n",
        "  t_i=t_f"
      ],
      "metadata": {
        "colab": {
          "base_uri": "https://localhost:8080/"
        },
        "id": "ZY_gooGInXyn",
        "outputId": "8d9a30a4-b3ff-44d9-f5cd-7226fd4c56cb"
      },
      "execution_count": 23,
      "outputs": [
        {
          "output_type": "stream",
          "name": "stdout",
          "text": [
            "20 49.6 4 4\n",
            "53.600097656\n"
          ]
        }
      ]
    },
    {
      "cell_type": "code",
      "source": [
        "#calculating the power spectral density in array for each element in the array \n",
        "#Do we have to use the whited data or the normal ones?\n",
        "psds_array=[]\n",
        "SNRS=[]\n",
        "for st in chunks:\n",
        "  #calculating the psd\n",
        "  st_tilde=strain.to_frequencyseries()\n",
        "  delta_t = st.delta_t\n",
        "  seg_len = int(2 / delta_t)\n",
        "  seg_stride = int(seg_len / 2) #how much overlapping of the segments\n",
        "  psd  = pycbc.psd.welch(st,#power spectral density\n",
        "                    seg_len=seg_len,\n",
        "                    seg_stride=seg_stride)\n",
        "\n",
        "  psd = interpolate(psd, st_tilde.delta_f)\n",
        "\n",
        "  #getting the waveform in frequency domain assuming m1=m2=3\n",
        "  hp,hc= get_fd_waveform(approximant=\"TaylorF2\", #generating the waveform\n",
        "                     mass1=3,\n",
        "                     mass2=3,\n",
        "                     delta_f=st_tilde.delta_f,\n",
        "                     f_lower=15.0)\n",
        "  hp.resize(len(st_tilde))\n",
        "  #Calculating the SNR\n",
        "  SNR=(sigmasq(hp,psd))**0.5\n",
        "  \n",
        "  SNRS.append(SNR)\n",
        "\n"
      ],
      "metadata": {
        "id": "pXYDqAQPyfG1"
      },
      "execution_count": 24,
      "outputs": []
    },
    {
      "cell_type": "code",
      "source": [
        "#plotting the histogram\n",
        "pylab.hist(SNRS,bins=20);"
      ],
      "metadata": {
        "colab": {
          "base_uri": "https://localhost:8080/",
          "height": 278
        },
        "id": "4KP0UJiRz6q6",
        "outputId": "03046a0a-121b-4b93-83db-c7f41abf3a3b"
      },
      "execution_count": 25,
      "outputs": [
        {
          "output_type": "display_data",
          "data": {
            "text/plain": [
              "<Figure size 432x288 with 1 Axes>"
            ],
            "image/png": "[encoded data removed]"
          },
          "metadata": {
            "needs_background": "light"
          }
        }
      ]
    },
    {
      "cell_type": "markdown",
      "source": [
        "The very low SNR makes sense, since we are working only with a background. The distribution indicates a background noise that is not constant.\n",
        "**Finish interpretation**"
      ],
      "metadata": {
        "id": "oKN5fd9z1MYf"
      }
    }
  ]
}