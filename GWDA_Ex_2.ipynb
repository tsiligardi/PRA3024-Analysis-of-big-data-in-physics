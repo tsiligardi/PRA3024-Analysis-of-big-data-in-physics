{
  "nbformat": 4,
  "nbformat_minor": 0,
  "metadata": {
    "colab": {
      "provenance": [],
      "authorship_tag": "ABX9TyNAVo328HVKpY5ojxKlf9Ho",
      "include_colab_link": true
    },
    "kernelspec": {
      "name": "python3",
      "display_name": "Python 3"
    },
    "language_info": {
      "name": "python"
    }
  },
  "cells": [
    {
      "cell_type": "markdown",
      "metadata": {
        "id": "view-in-github",
        "colab_type": "text"
      },
      "source": [
        "<a href=\"https://colab.research.google.com/github/tsiligardi/PRA3024-Analysis-of-big-data-in-physics/blob/main/GWDA_Ex_2.ipynb\" target=\"_parent\"><img src=\"https://colab.research.google.com/assets/colab-badge.svg\" alt=\"Open In Colab\"/></a>"
      ]
    },
    {
      "cell_type": "markdown",
      "source": [
        "**PROBLEM 2**\n"
      ],
      "metadata": {
        "id": "orJe0adz0XQw"
      }
    },
    {
      "cell_type": "code",
      "source": [
        "import sys\n",
        "!{sys.executable} -m pip install lalsuite pycbc\n"
      ],
      "metadata": {
        "colab": {
          "base_uri": "https://localhost:8080/"
        },
        "id": "DrKxrf-igG3i",
        "outputId": "e987f390-f99e-4f34-802e-af2b3d34574a"
      },
      "execution_count": 1,
      "outputs": [
        {
          "output_type": "stream",
          "name": "stdout",
          "text": [
            "Looking in indexes: https://pypi.org/simple, https://us-python.pkg.dev/colab-wheels/public/simple/\n",
            "Requirement already satisfied: lalsuite in /usr/local/lib/python3.8/dist-packages (7.13)\n",
            "Requirement already satisfied: pycbc in /usr/local/lib/python3.8/dist-packages (2.1.0)\n",
            "Requirement already satisfied: importlib-resources>=1.3.0 in /usr/local/lib/python3.8/dist-packages (from lalsuite) (5.12.0)\n",
            "Requirement already satisfied: python-dateutil in /usr/local/lib/python3.8/dist-packages (from lalsuite) (2.8.2)\n",
            "Requirement already satisfied: numpy>=1.7 in /usr/local/lib/python3.8/dist-packages (from lalsuite) (1.22.4)\n",
            "Requirement already satisfied: scipy in /usr/local/lib/python3.8/dist-packages (from lalsuite) (1.10.1)\n",
            "Requirement already satisfied: ligo-segments in /usr/local/lib/python3.8/dist-packages (from lalsuite) (1.4.0)\n",
            "Requirement already satisfied: lscsoft-glue in /usr/local/lib/python3.8/dist-packages (from lalsuite) (3.0.1)\n",
            "Requirement already satisfied: matplotlib in /usr/local/lib/python3.8/dist-packages (from lalsuite) (3.5.3)\n",
            "Requirement already satisfied: astropy in /usr/local/lib/python3.8/dist-packages (from lalsuite) (4.3.1)\n",
            "Requirement already satisfied: pegasus-wms.api>=5.0.3 in /usr/local/lib/python3.8/dist-packages (from pycbc) (5.0.5)\n",
            "Requirement already satisfied: Mako>=1.0.1 in /usr/local/lib/python3.8/dist-packages (from pycbc) (1.2.4)\n",
            "Requirement already satisfied: gwdatafind in /usr/local/lib/python3.8/dist-packages (from pycbc) (1.1.3)\n",
            "Requirement already satisfied: python-ligo-lw>=1.7.0 in /usr/local/lib/python3.8/dist-packages (from pycbc) (1.8.3)\n",
            "Requirement already satisfied: h5py!=3.7.0,>=3.0.0 in /usr/local/lib/python3.8/dist-packages (from pycbc) (3.1.0)\n",
            "Requirement already satisfied: beautifulsoup4>=4.6.0 in /usr/local/lib/python3.8/dist-packages (from pycbc) (4.6.3)\n",
            "Requirement already satisfied: mpld3>=0.3 in /usr/local/lib/python3.8/dist-packages (from pycbc) (0.5.9)\n",
            "Requirement already satisfied: jinja2 in /usr/local/lib/python3.8/dist-packages (from pycbc) (3.1.2)\n",
            "Requirement already satisfied: tqdm in /usr/local/lib/python3.8/dist-packages (from pycbc) (4.64.1)\n",
            "Requirement already satisfied: setuptools in /usr/local/lib/python3.8/dist-packages (from pycbc) (57.4.0)\n",
            "Requirement already satisfied: pillow in /usr/local/lib/python3.8/dist-packages (from pycbc) (8.4.0)\n",
            "Requirement already satisfied: cython>=0.29 in /usr/local/lib/python3.8/dist-packages (from pycbc) (0.29.33)\n",
            "Requirement already satisfied: pyerfa>=1.7.3 in /usr/local/lib/python3.8/dist-packages (from astropy->lalsuite) (2.0.0.1)\n",
            "Requirement already satisfied: zipp>=3.1.0 in /usr/local/lib/python3.8/dist-packages (from importlib-resources>=1.3.0->lalsuite) (3.15.0)\n",
            "Requirement already satisfied: pyRXP in /usr/local/lib/python3.8/dist-packages (from lscsoft-glue->lalsuite) (3.0.1)\n",
            "Requirement already satisfied: pyOpenSSL in /usr/local/lib/python3.8/dist-packages (from lscsoft-glue->lalsuite) (23.0.0)\n",
            "Requirement already satisfied: six in /usr/local/lib/python3.8/dist-packages (from lscsoft-glue->lalsuite) (1.15.0)\n",
            "Requirement already satisfied: MarkupSafe>=0.9.2 in /usr/local/lib/python3.8/dist-packages (from Mako>=1.0.1->pycbc) (2.1.2)\n",
            "Requirement already satisfied: packaging>=20.0 in /usr/local/lib/python3.8/dist-packages (from matplotlib->lalsuite) (23.0)\n",
            "Requirement already satisfied: kiwisolver>=1.0.1 in /usr/local/lib/python3.8/dist-packages (from matplotlib->lalsuite) (1.4.4)\n",
            "Requirement already satisfied: fonttools>=4.22.0 in /usr/local/lib/python3.8/dist-packages (from matplotlib->lalsuite) (4.38.0)\n",
            "Requirement already satisfied: cycler>=0.10 in /usr/local/lib/python3.8/dist-packages (from matplotlib->lalsuite) (0.11.0)\n",
            "Requirement already satisfied: pyparsing>=2.2.1 in /usr/local/lib/python3.8/dist-packages (from matplotlib->lalsuite) (3.0.9)\n",
            "Requirement already satisfied: pegasus-wms.common in /usr/local/lib/python3.8/dist-packages (from pegasus-wms.api>=5.0.3->pycbc) (5.0.5)\n",
            "Requirement already satisfied: pyyaml in /usr/local/lib/python3.8/dist-packages (from python-ligo-lw>=1.7.0->pycbc) (6.0)\n",
            "Requirement already satisfied: igwn-auth-utils>=0.3.1 in /usr/local/lib/python3.8/dist-packages (from gwdatafind->pycbc) (0.4.0)\n",
            "Requirement already satisfied: requests>=2.14 in /usr/local/lib/python3.8/dist-packages (from igwn-auth-utils>=0.3.1->gwdatafind->pycbc) (2.25.1)\n",
            "Requirement already satisfied: scitokens>=1.7.0 in /usr/local/lib/python3.8/dist-packages (from igwn-auth-utils>=0.3.1->gwdatafind->pycbc) (1.7.4)\n",
            "Requirement already satisfied: safe-netrc>=1.0.0 in /usr/local/lib/python3.8/dist-packages (from igwn-auth-utils>=0.3.1->gwdatafind->pycbc) (1.0.1)\n",
            "Requirement already satisfied: cryptography>=2.3 in /usr/local/lib/python3.8/dist-packages (from igwn-auth-utils>=0.3.1->gwdatafind->pycbc) (39.0.2)\n",
            "Requirement already satisfied: cffi>=1.12 in /usr/local/lib/python3.8/dist-packages (from cryptography>=2.3->igwn-auth-utils>=0.3.1->gwdatafind->pycbc) (1.15.1)\n",
            "Requirement already satisfied: idna<3,>=2.5 in /usr/local/lib/python3.8/dist-packages (from requests>=2.14->igwn-auth-utils>=0.3.1->gwdatafind->pycbc) (2.10)\n",
            "Requirement already satisfied: urllib3<1.27,>=1.21.1 in /usr/local/lib/python3.8/dist-packages (from requests>=2.14->igwn-auth-utils>=0.3.1->gwdatafind->pycbc) (1.26.14)\n",
            "Requirement already satisfied: chardet<5,>=3.0.2 in /usr/local/lib/python3.8/dist-packages (from requests>=2.14->igwn-auth-utils>=0.3.1->gwdatafind->pycbc) (4.0.0)\n",
            "Requirement already satisfied: certifi>=2017.4.17 in /usr/local/lib/python3.8/dist-packages (from requests>=2.14->igwn-auth-utils>=0.3.1->gwdatafind->pycbc) (2022.12.7)\n",
            "Requirement already satisfied: PyJWT>=1.6.1 in /usr/local/lib/python3.8/dist-packages (from scitokens>=1.7.0->igwn-auth-utils>=0.3.1->gwdatafind->pycbc) (2.6.0)\n",
            "Requirement already satisfied: pycparser in /usr/local/lib/python3.8/dist-packages (from cffi>=1.12->cryptography>=2.3->igwn-auth-utils>=0.3.1->gwdatafind->pycbc) (2.21)\n"
          ]
        }
      ]
    },
    {
      "cell_type": "code",
      "execution_count": 2,
      "metadata": {
        "colab": {
          "base_uri": "https://localhost:8080/"
        },
        "id": "ugszc6EC0PUj",
        "outputId": "28002703-b089-4ea7-b363-dd1759f060d2"
      },
      "outputs": [
        {
          "output_type": "stream",
          "name": "stdout",
          "text": [
            "Drive already mounted at /content/drive; to attempt to forcibly remount, call drive.mount(\"/content/drive\", force_remount=True).\n"
          ]
        }
      ],
      "source": [
        "#Mounting drive on colab\n",
        "#if not working on colab, ignore this part\n",
        "from google.colab import drive\n",
        "drive.mount('/content/drive')"
      ]
    },
    {
      "cell_type": "code",
      "source": [
        "#Import the usefull libraries\n",
        "%matplotlib inline\n",
        "import pylab\n",
        "import lal\n",
        "from pycbc.filter import highpass,matched_filter\n",
        "from pycbc.conversions import mass1_from_mchirp_q\n",
        "from pycbc.catalog import Merger\n",
        "from pycbc.frame import read_frame\n",
        "from pycbc.filter import resample_to_delta_t, highpass\n",
        "import numpy as np\n",
        "from pycbc import types\n",
        "from pycbc.waveform import get_td_waveform\n",
        "from pycbc.waveform import td_approximants, fd_approximants\n",
        "import pycbc.psd\n",
        "from pycbc.psd import interpolate\n"
      ],
      "metadata": {
        "id": "iBF2ffGY0qsU"
      },
      "execution_count": 3,
      "outputs": []
    },
    {
      "cell_type": "code",
      "source": [
        "#Problem 2\n",
        "#first download the data from the assignament \n",
        "\n",
        "'''\n",
        "Loading the data and converting the data type into time series\n",
        "'''\n",
        "d = np.load('/content/drive/MyDrive/noise_ts_4096Hz.npy') #name of the data file noise_ts_4096Hz.npy\n",
        "#Note that this import assume that the file with the date is imported in drive and you are working on colab\n",
        "dt = d[:, 0]\n",
        "d = types.TimeSeries(d[:, 1], delta_t = dt[1]- dt[0]) #this is to comvert data into GW timeSeries\n",
        "data = d"
      ],
      "metadata": {
        "id": "JpGAfaQkiOcP"
      },
      "execution_count": 4,
      "outputs": []
    },
    {
      "cell_type": "markdown",
      "source": [
        "**Part 1**\n",
        "<br>plot the noise power spectral\n",
        "density (PSD) of that data. Test whether there is any gravitational wave signal present\n",
        "in the data or not? For this test, you can assume the GW signals can produce only\n",
        "from equal mass binary systems with a range between 5 to 10. We assume a threshold\n",
        "on matched filter SNR of 8 to claim detection of GW"
      ],
      "metadata": {
        "id": "zMHkS-JOsSl-"
      }
    },
    {
      "cell_type": "code",
      "source": [
        "#getting strain and stilde from the data\n",
        "strain=resample_to_delta_t(highpass(data, 15.0), 1.0/2048).crop(4,4)#applying an high pass filter and downsampling\n",
        "stilde=strain.to_frequencyseries()\n",
        "#Calcularing the power spectral density\n",
        "delta_t = strain.delta_t\n",
        "seg_len = int(2 / delta_t)\n",
        "seg_stride = int(seg_len / 2) #how much overlapping of the segments\n",
        "psds  = pycbc.psd.welch(strain,#power spectral density\n",
        "                  seg_len=seg_len,\n",
        "                  seg_stride=seg_stride)\n",
        "\n",
        "psds = interpolate(psds, stilde.delta_f)\n",
        "\n",
        "pylab.loglog(psds.sample_frequencies, psds, );\n",
        "pylab.xlim(20, 1024);\n",
        "pylab.ylim(1e-47, 1e-42);"
      ],
      "metadata": {
        "colab": {
          "base_uri": "https://localhost:8080/",
          "height": 275
        },
        "id": "HjRKNax_1Q6C",
        "outputId": "2d6ae61b-475d-4bc1-f7a5-ea4cadab930e"
      },
      "execution_count": 5,
      "outputs": [
        {
          "output_type": "display_data",
          "data": {
            "text/plain": [
              "<Figure size 432x288 with 1 Axes>"
            ],
            "image/png": "[encoded data removed]"
          },
          "metadata": {
            "needs_background": "light"
          }
        }
      ]
    },
    {
      "cell_type": "code",
      "source": [
        "#Now I can determine the SNR. \n",
        "mass1 = np.arange(5, 10,0.5 ) #I am aware it is not a big range, but the calculation is pretty lengthy and in this way I can speed it up a bit\n",
        "mass2 = mass1\n",
        "Snr_list = []\n",
        "for m in mass1:\n",
        "  hp, hc = get_td_waveform(approximant=\"TaylorT2\", #generating the waveform\n",
        "                     mass1=m,\n",
        "                     mass2=m,\n",
        "                     delta_t=strain.delta_t,\n",
        "                     f_lower=15.0)\n",
        "  hp.resize(len(strain))#resizing\n",
        "  template = hp.cyclic_time_shift(hp.start_time)#creating the template\n",
        "    \n",
        "  snr = matched_filter(template, strain,\n",
        "                    psd=psds, low_frequency_cutoff=15.0)#Determine the snr\n",
        "  snr_H1 = snr.crop(4 + 4, 4)\n",
        "\n",
        "\n",
        "  Snr_list.append(max(abs(snr_H1)))#append the snr to the list\n",
        "\n",
        "\n",
        "pylab.figure(figsize=[10, 4])\n",
        "pylab.plot(mass1,Snr_list)\n",
        "pylab.ylabel('Signal-to-noise')\n",
        "pylab.xlabel('mass')\n",
        "pylab.show()\n",
        "  "
      ],
      "metadata": {
        "colab": {
          "base_uri": "https://localhost:8080/",
          "height": 279
        },
        "id": "1xKRVIH8418l",
        "outputId": "888bead4-7160-4a14-ca22-b2361865ee19"
      },
      "execution_count": 6,
      "outputs": [
        {
          "output_type": "display_data",
          "data": {
            "text/plain": [
              "<Figure size 720x288 with 1 Axes>"
            ],
            "image/png": "[encoded data removed]"
          },
          "metadata": {
            "needs_background": "light"
          }
        }
      ]
    },
    {
      "cell_type": "markdown",
      "source": [
        "From the graph we can see that SNR<8. Therefore, we can state that there is no signal in our data"
      ],
      "metadata": {
        "id": "e7llYH5PClq7"
      }
    },
    {
      "cell_type": "markdown",
      "source": [
        "**Part 2**\n",
        "<br>Whiten the above data using its noise PSD. You can use PyCBC based function of the\n",
        "Welch method to estimate the PSD. Construct a histogram of the whitened data and\n",
        "show that the whiten data follows a Gaussian distribution with zero mean."
      ],
      "metadata": {
        "id": "zrnUq_3LD6-O"
      }
    },
    {
      "cell_type": "code",
      "source": [
        "import scipy\n",
        "from scipy.stats import norm\n",
        "#whitening the data\n",
        "white_data=(strain.to_frequencyseries()/psds**0.5).to_timeseries()\n",
        "limits=(-300,300)#setting the limits of the histogram\n",
        "#Fitting the data to a normal distribution\n",
        "mean,sd=norm.fit(white_data)\n",
        "#creating the gaussian\n",
        "x=np.linspace(*limits,300)\n",
        "gauss=norm.pdf(x,mean,sd)\n",
        "#plotting --fix the plotting (or the fitting)\n",
        "pylab.plot(x,gauss,'k',label='gaussian');\n",
        "y=pylab.hist(white_data,bins=300,density=True,label='data')\n",
        "pylab.xlim(*limits);\n",
        "pylab.legend();\n",
        "pylab.title(\"mean= {}\".format(mean));\n"
      ],
      "metadata": {
        "colab": {
          "base_uri": "https://localhost:8080/",
          "height": 281
        },
        "id": "HwAWPkIWGnRd",
        "outputId": "2fb0d78d-b8a2-4205-b61a-deeb7a51df93"
      },
      "execution_count": 27,
      "outputs": [
        {
          "output_type": "display_data",
          "data": {
            "text/plain": [
              "<Figure size 432x288 with 1 Axes>"
            ],
            "image/png": "[encoded data removed]"
          },
          "metadata": {
            "needs_background": "light"
          }
        }
      ]
    },
    {
      "cell_type": "markdown",
      "source": [
        "The mean is not exactly 0 as expected, however it is close enough to if (-0.9)"
      ],
      "metadata": {
        "id": "VMU7dIAqfX74"
      }
    },
    {
      "cell_type": "markdown",
      "source": [
        "**Part 3**\n",
        "<br>In gravitational wave data analysis, we consider that the noise is stationary Gaussian.\n",
        "But in reality, the stationary assumption does not hold. Can you think of a test to\n",
        "show that the stationarity does not hold?"
      ],
      "metadata": {
        "id": "N2YLKUIWkCvi"
      }
    }
  ]
}